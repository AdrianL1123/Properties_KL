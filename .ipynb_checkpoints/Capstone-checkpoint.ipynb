{
 "cells": [
  {
   "cell_type": "code",
   "execution_count": null,
   "id": "a834ea0b-9b4f-4b90-aa75-b2ac68398fdf",
   "metadata": {},
   "outputs": [],
   "source": [
    "- Capstone Project \n",
    "    - Briefly talk about your project\n",
    "    - What type of dataset\n",
    "    - problem statment if you have one \n",
    "    - presentation 13-15 August 2024\n",
    "    - submission 16 August 2024\n",
    "- Class feedback "
   ]
  },
  {
   "cell_type": "code",
   "execution_count": null,
   "id": "3bce5b00-e635-444a-9fef-6c9cc76d1142",
   "metadata": {},
   "outputs": [],
   "source": [
    "Le Zhang\n",
    "- Curseforge (minecraft mod)\n",
    "    - Using api to obtain data\n",
    "    - data analysis/ml\n",
    "- Hypothesis\n",
    "- Problem statement\n",
    "- Methodology"
   ]
  },
  {
   "cell_type": "code",
   "execution_count": null,
   "id": "e8c61c52-59d8-43b5-98e8-80eff5da0714",
   "metadata": {},
   "outputs": [],
   "source": [
    "Yao Qi\n",
    "- Heart disease dataset\n",
    "    - uci repo\n",
    "    - analysis/ml\n",
    "- software engineer salary dataset\n",
    "    - kaggle \n",
    "    - analysis/ml\n",
    "- Problem statement\n",
    "- Methdology"
   ]
  },
  {
   "cell_type": "code",
   "execution_count": null,
   "id": "0ec25c03-d408-4e5f-ad7e-b231cc3c9c5f",
   "metadata": {},
   "outputs": [],
   "source": [
    "Adrian\n",
    "- Property dataset (web scrapping)\n",
    "    - (https://www.propertyguru.com.my/property-listing/arcadia-penang-for-rent-by-sunny-yang-41414059)\n",
    "- Analysis/ML\n",
    "- Problem statement\n",
    "- Methodology"
   ]
  },
  {
   "cell_type": "code",
   "execution_count": null,
   "id": "6602fe82-09d3-4b87-9c2c-eed4403d870a",
   "metadata": {},
   "outputs": [],
   "source": [
    "Dylan\n",
    "- Steam data\n",
    "    - API\n",
    "        - publisher\n",
    "        - developer\n",
    "        - reviews\n",
    "        - release date\n",
    "        - platform released\n",
    "        - awards\n",
    "        - game genre\n",
    "    - Analysis/ML\n",
    "    \n",
    "- Lol data (https://escharts.com/)\n",
    "    - webscrapping\n",
    "    - characters\n",
    "    - possible combo of characters\n",
    "    - in game analytics\n",
    "    - historical data\n",
    "    - esport teams\n",
    "    - team win\n",
    "    - tournaments"
   ]
  },
  {
   "cell_type": "code",
   "execution_count": null,
   "id": "ff61bf8e-832d-4f7a-b159-31c2630b6b60",
   "metadata": {},
   "outputs": [],
   "source": [
    "end to end project\n",
    "Problem statement\n",
    "Data - scrapping, api or repo\n",
    "Analysis - eda, statistical analysis\n",
    "    - insights from analysis\n",
    "Machine learning workflow\n",
    "Working model (demo) (streamlit)\n",
    "60-70% "
   ]
  },
  {
   "cell_type": "code",
   "execution_count": null,
   "id": "f4c1c59c-cb26-4ef2-85e3-2e44288ac315",
   "metadata": {},
   "outputs": [],
   "source": [
    "Eu Min\n",
    "- Cyber security\n",
    "  -kaggle data\n",
    "Vision\n",
    "    - https://github.com/bobcorn/fruits-inspector\n",
    "    - https://medium.datadriveninvestor.com/computer-vision-fruit-recognition-4f2f7a780e00\n",
    "    - "
   ]
  },
  {
   "cell_type": "code",
   "execution_count": null,
   "id": "056412ca-1657-48d2-8ab8-04ace1df8128",
   "metadata": {},
   "outputs": [],
   "source": [
    "https://ai.google.dev/"
   ]
  }
 ],
 "metadata": {
  "kernelspec": {
   "display_name": "Python 3 (ipykernel)",
   "language": "python",
   "name": "python3"
  },
  "language_info": {
   "codemirror_mode": {
    "name": "ipython",
    "version": 3
   },
   "file_extension": ".py",
   "mimetype": "text/x-python",
   "name": "python",
   "nbconvert_exporter": "python",
   "pygments_lexer": "ipython3",
   "version": "3.12.4"
  }
 },
 "nbformat": 4,
 "nbformat_minor": 5
}
