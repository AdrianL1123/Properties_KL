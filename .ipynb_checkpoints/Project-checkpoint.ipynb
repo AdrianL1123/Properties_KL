{
 "cells": [
  {
   "cell_type": "markdown",
   "id": "7cc1ad6c-f930-4c2c-ac44-9bb9a6ee86f8",
   "metadata": {},
   "source": [
    "# Web Scrapping"
   ]
  },
  {
   "cell_type": "code",
   "execution_count": null,
   "id": "713fc068-979e-4276-b57b-e2959153e8fb",
   "metadata": {},
   "outputs": [],
   "source": [
    "from selenium import webdriver\n",
    "from selenium.webdriver.common.by import By\n",
    "import time\n",
    "from selenium.webdriver.support.ui import WebDriverWait\n",
    "from selenium.webdriver.support import expected_conditions as EC\n",
    "import pandas as pd \n",
    "import numpy as np"
   ]
  },
  {
   "cell_type": "code",
   "execution_count": null,
   "id": "328025d2-126b-49c0-97a8-99b45b1bacf3",
   "metadata": {
    "jupyter": {
     "source_hidden": true
    },
    "scrolled": true
   },
   "outputs": [],
   "source": [
    "# driver = webdriver.Chrome()\n",
    "# driver.get(\"https://www.iproperty.com.my/sale/penang/all-residential/\")\n",
    "\n",
    "# time.sleep(3) \n",
    "\n",
    "# for i in range(25):\n",
    "#     try:\n",
    "#         # property_container = driver.find_element(By.XPATH, \".//div[@class='ListingsListstyle__ListingResultPage-iIneXB dBXYzA']\")\n",
    "#         property_container = driver.find_element(By.XPATH, \"//ul[@class='ListingsListstyle__ListingsListContainer-dAfITF hkxQlK listing-list']\")\n",
    "#         print(property_container)\n",
    "#         properties = property_container.find_elements(By.CSS_SELECTOR, \".ListingsListstyle__ListingListItemWrapper-hjHtwj.eUjjMH.sale-102366737\")\n",
    "        \n",
    "#         properties[i].click()\n",
    "#         time.sleep(2)  # Wait for the new page to load\n",
    "        \n",
    "#         # Extract the property name using the correct selector\n",
    "#         property_name = WebDriverWait(driver, 10).until(\n",
    "#             EC.presence_of_element_located((By.TAG_NAME, \"h1\"))\n",
    "#         ).text\n",
    "        \n",
    "#         property_address = WebDriverWait(driver, 10).until(\n",
    "#             EC.presence_of_element_located((By.TAG_NAME, \"h3\"))\n",
    "#         ).text\n",
    "\n",
    "#         property_size = WebDriverWait(driver, 10).until(\n",
    "#             EC.presence_of_element_located((By.XPATH, \".//div[@class='ListingDescriptionstyle__Headline-CtOKw gDpweD']\"))\n",
    "#         ).text\n",
    "\n",
    "#         try:\n",
    "#             show_more_button = WebDriverWait(driver, 10).until(\n",
    "#                 EC.presence_of_element_located((By.XPATH, \".//div[@id='property-details']//a[contains(text(),'Show more')]\"))\n",
    "#             )\n",
    "#             show_more_button.click()\n",
    "#             time.sleep(1)  \n",
    "#         except:\n",
    "#             # print(\"No 'Show More' button found, or couldn't click it.\")\n",
    "#             print(0)\n",
    "\n",
    "#         try:\n",
    "#         # Extract the property details\n",
    "#             property_details = WebDriverWait(driver, 5).until(\n",
    "#             EC.presence_of_element_located((By.XPATH, \".//div[@id='property-details']\"))\n",
    "#             ).text\n",
    "            \n",
    "#         except: \n",
    "#             # print('No property details skipping for now.')\n",
    "#             # same thing but just to clean data easier \n",
    "#             print(0)\n",
    "        \n",
    "#         # print(f\"Property Name: {property_name}, Property Address: {property_address}, Property Size: {property_size}\")\n",
    "#         # print(f'Property Details: {property_details}')\n",
    "        \n",
    "#         driver.back()  # Go back to the listings page\n",
    "#         time.sleep(3)\n",
    "        \n",
    "#     except Exception as e:\n",
    "#         print(f\"Error: {e}\")\n",
    "#         continue\n",
    "\n",
    "# driver.quit()"
   ]
  },
  {
   "cell_type": "code",
   "execution_count": null,
   "id": "53bdb463-aa4c-47c2-adcb-e01c2b849e5d",
   "metadata": {
    "jupyter": {
     "source_hidden": true
    }
   },
   "outputs": [],
   "source": [
    "# driver = webdriver.Chrome()\n",
    "# driver.get(\"https://www.iproperty.com.my/sale/penang/all-residential/\")\n",
    "# time.sleep(3)\n",
    "\n",
    "# try:\n",
    "#     property_container = WebDriverWait(driver, 10).until(\n",
    "#         EC.presence_of_element_located((By.XPATH, \"//ul[@class='ListingsListstyle__ListingsListContainer-dAfITF hkxQlK listing-list']\"))\n",
    "#     )\n",
    "#     properties = property_container.find_elements(By.XPATH, \".//li[contains(@class, 'ListingsListstyle__ListingListItemWrapper-hjHtwj')]\")\n",
    "\n",
    "#     print(f\"Found {len(properties)} properties\")\n",
    "\n",
    "#     for prop in properties:\n",
    "#         try:\n",
    "#             property_name = prop.find_element(By.XPATH, \".//h2\").text\n",
    "#             property_price = prop.find_element(By.XPATH, \"//li[@class='ListingPricestyle__ItemWrapper-etxdML ejAiy']\").text\n",
    "#             # property_details = prop.find_element(By.XPATH, \"//p[contains(@class, 'ListingAttributesstyle__ListingAttrsDescriptionItemWrapper') and contains(@class, 'attributes-description-item')]\").text\n",
    "            \n",
    "#             prop.click()\n",
    "#             try:\n",
    "#                 show_more_button = WebDriverWait(driver, 10).until(\n",
    "#                     EC.presence_of_element_located((By.XPATH, \".//div[@id='property-details']//a[contains(text(),'Show more')]\"))\n",
    "#                 )\n",
    "#                 show_more_button.click()\n",
    "#                 time.sleep(1)  \n",
    "#             except:\n",
    "#                 # print(\"No 'Show More' button found, or couldn't click it.\")\n",
    "#                 print(0)\n",
    "    \n",
    "#             try:\n",
    "#                 # Extract the property details\n",
    "#                 property_details = WebDriverWait(driver, 10).until(\n",
    "#                 EC.presence_of_element_located((By.XPATH, \"//div[@id='property-details']\"))\n",
    "#                 ).text\n",
    "                \n",
    "#             except: \n",
    "#                 # print('No property details skipping for now.')\n",
    "#                 # same thing but just to clean data easier \n",
    "#                 print(0)\n",
    "\n",
    "#             driver.back()  # Go back to the listings page\n",
    "#             time.sleep(2)\n",
    "            \n",
    "            \n",
    "#             print(f\"Property Name: {property_name}\")\n",
    "#             print(f\"Price: {property_price}\")\n",
    "#             print(f\"Details: {property_details}\")\n",
    "#             print(\"-\" * 50)\n",
    "\n",
    "#         except Exception as e:\n",
    "#             print(f\"Error extracting property details: {e}\")\n",
    "\n",
    "# except Exception as e:\n",
    "#     print(f\"Error: {e}\")\n",
    "\n",
    "# finally:\n",
    "#     driver.quit()"
   ]
  },
  {
   "cell_type": "markdown",
   "id": "0264465c-11be-409a-9089-7a28cceaeccf",
   "metadata": {},
   "source": [
    "# Dataset (from the goat)"
   ]
  },
  {
   "cell_type": "code",
   "execution_count": null,
   "id": "30daf60f-ce82-47d6-a46f-1ef86e0429d0",
   "metadata": {},
   "outputs": [],
   "source": [
    "df = pd.read_csv('mudah-apartment-kl-selangor.csv')\n",
    "df.head()"
   ]
  },
  {
   "cell_type": "markdown",
   "id": "682e03c4-7d81-4229-ab24-aff175da1cfb",
   "metadata": {},
   "source": [
    "# Data Cleaning (handling missing values)"
   ]
  },
  {
   "cell_type": "code",
   "execution_count": null,
   "id": "d40e52b5-87a1-4225-b9a5-ed844268d612",
   "metadata": {
    "scrolled": true
   },
   "outputs": [],
   "source": [
    "df.columns"
   ]
  },
  {
   "cell_type": "code",
   "execution_count": null,
   "id": "384770a9-c236-45c5-bf5c-ba858dbe186c",
   "metadata": {},
   "outputs": [],
   "source": [
    "df.isna().sum()"
   ]
  },
  {
   "cell_type": "code",
   "execution_count": null,
   "id": "b23edcfa-a273-4a34-84a2-c61e2b628c74",
   "metadata": {},
   "outputs": [],
   "source": [
    "df.info()"
   ]
  },
  {
   "cell_type": "markdown",
   "id": "7e7b4d3e-489d-4a6c-bab3-fc01337589d1",
   "metadata": {},
   "source": [
    "# copy df to compare later"
   ]
  },
  {
   "cell_type": "code",
   "execution_count": null,
   "id": "9061f11b-4e3b-44da-b3bb-c960ee1aae56",
   "metadata": {},
   "outputs": [],
   "source": [
    "df_cleaned = df.copy()\n",
    "df_cleaned.head(1)"
   ]
  },
  {
   "cell_type": "code",
   "execution_count": null,
   "id": "d9b6843a-c9e8-4567-934a-2a8aae526175",
   "metadata": {
    "scrolled": true
   },
   "outputs": [],
   "source": [
    "df_cleaned = df_cleaned.drop(['ads_id', 'completion_year'], axis=1)"
   ]
  },
  {
   "cell_type": "code",
   "execution_count": null,
   "id": "60b8970e-8dd5-4011-ba85-c3d41386cac5",
   "metadata": {},
   "outputs": [],
   "source": [
    "df_cleaned['prop_name'] = df_cleaned['prop_name'].fillna('unknown')"
   ]
  },
  {
   "cell_type": "code",
   "execution_count": null,
   "id": "7fca389e-f054-4e8f-8611-456c2fc13fa1",
   "metadata": {},
   "outputs": [],
   "source": [
    "df_cleaned['monthly_rent'] = df_cleaned['monthly_rent'].fillna(0)"
   ]
  },
  {
   "cell_type": "code",
   "execution_count": null,
   "id": "8120b42b-4ddd-49fb-9965-558370faf155",
   "metadata": {},
   "outputs": [],
   "source": [
    "df_cleaned['rooms']"
   ]
  },
  {
   "cell_type": "code",
   "execution_count": null,
   "id": "ce0fdc1b-befb-4737-909f-f04e94af731b",
   "metadata": {
    "scrolled": true
   },
   "outputs": [],
   "source": [
    "df_cleaned['monthly_rent'].unique()"
   ]
  },
  {
   "cell_type": "code",
   "execution_count": null,
   "id": "e6c11541-407c-4403-9f13-1d98012f5d1b",
   "metadata": {},
   "outputs": [],
   "source": [
    "# replacing all the unwanted strings in data and eliminating the whitespace with regex \n",
    "df_cleaned['monthly_rent(RM)'] = df_cleaned['monthly_rent'].str.replace('RM', '').str.replace('per month', '').str.replace(r'\\s+', '', regex=True).fillna(0).astype(int)"
   ]
  },
  {
   "cell_type": "code",
   "execution_count": null,
   "id": "5a47581b-c88a-4482-b9e4-9e74b14be482",
   "metadata": {},
   "outputs": [],
   "source": [
    "df_cleaned['monthly_rent(RM)'].isna().sum()"
   ]
  },
  {
   "cell_type": "code",
   "execution_count": null,
   "id": "687d77d1-6cec-4e0b-8818-57e75f254fa7",
   "metadata": {},
   "outputs": [],
   "source": [
    "df_cleaned.info()"
   ]
  },
  {
   "cell_type": "code",
   "execution_count": null,
   "id": "39c947a5-8851-4ff7-8de9-107afefc89b1",
   "metadata": {
    "scrolled": true
   },
   "outputs": [],
   "source": [
    "df_cleaned = df_cleaned.drop('monthly_rent', axis=1)"
   ]
  },
  {
   "cell_type": "code",
   "execution_count": null,
   "id": "3cef4521-9c47-4ba6-bf73-cf8c293b868d",
   "metadata": {
    "scrolled": true
   },
   "outputs": [],
   "source": [
    "# from sklearn.preprocessing import LabelEncoder\n",
    "# label_encoder = LabelEncoder()\n",
    "\n",
    "# objects = df_cleaned.select_dtypes(include='object')\n",
    "# for col in objects:\n",
    "#     df_cleaned[col] = label_encoder.fit_transform(objects[col])"
   ]
  },
  {
   "cell_type": "code",
   "execution_count": null,
   "id": "0c1c57f2-038c-4e7c-a403-3ebafaca4ed6",
   "metadata": {},
   "outputs": [],
   "source": [
    "df.rooms.unique()"
   ]
  },
  {
   "cell_type": "code",
   "execution_count": null,
   "id": "9e1eb804-84e9-4158-9930-2d2bcebc592d",
   "metadata": {},
   "outputs": [],
   "source": [
    "df_cleaned['rooms'] = df_cleaned['rooms'].fillna(0)"
   ]
  },
  {
   "cell_type": "code",
   "execution_count": null,
   "id": "56e47f9b-10b3-46bd-b6fc-7fc734839ade",
   "metadata": {
    "scrolled": true
   },
   "outputs": [],
   "source": [
    "df_cleaned['bathroom'] = df_cleaned['bathroom'].fillna(0).astype(int)\n",
    "df_cleaned['bathroom']"
   ]
  },
  {
   "cell_type": "code",
   "execution_count": null,
   "id": "ef20e0a1-bcb6-404e-aaa5-f78e985c1e33",
   "metadata": {
    "scrolled": true
   },
   "outputs": [],
   "source": [
    "df_cleaned['parking'] = df_cleaned['parking'].fillna(0).astype(int)\n",
    "df_cleaned['parking']"
   ]
  },
  {
   "cell_type": "code",
   "execution_count": null,
   "id": "ad537660-82a8-44e5-b094-326712272489",
   "metadata": {},
   "outputs": [],
   "source": [
    "df_cleaned.furnished = df_cleaned.furnished.replace(np.nan, 'unknown')\n",
    "df_cleaned.furnished.isna().sum()"
   ]
  },
  {
   "cell_type": "code",
   "execution_count": null,
   "id": "8b1f8e10-0289-4e97-83ee-4b7aa52988af",
   "metadata": {},
   "outputs": [],
   "source": [
    "df_cleaned.facilities = df_cleaned.facilities.replace(np.nan, 'unknown')\n",
    "df_cleaned.facilities.isna().sum()"
   ]
  },
  {
   "cell_type": "code",
   "execution_count": null,
   "id": "df6b9b06-2bd0-4356-87d5-b89e205107e9",
   "metadata": {},
   "outputs": [],
   "source": [
    "df_cleaned.additional_facilities = df_cleaned.additional_facilities.replace(np.nan, 'unknown')\n",
    "df_cleaned.additional_facilities.isna().sum()"
   ]
  },
  {
   "cell_type": "markdown",
   "id": "27475709-b591-4640-90ec-4e8722b462cc",
   "metadata": {},
   "source": [
    "---"
   ]
  },
  {
   "cell_type": "markdown",
   "id": "300df83c-cb4b-4c7d-84de-97b6576d2d99",
   "metadata": {},
   "source": [
    "# Feature engineering "
   ]
  },
  {
   "cell_type": "code",
   "execution_count": null,
   "id": "256c1dff-2855-4fa0-9eeb-627b60d0d335",
   "metadata": {},
   "outputs": [],
   "source": [
    "df_cleaned.columns"
   ]
  },
  {
   "cell_type": "markdown",
   "id": "b374caed-c113-4548-b55a-aa5a558e65d8",
   "metadata": {},
   "source": [
    "---"
   ]
  },
  {
   "cell_type": "markdown",
   "id": "609a16fe-1458-4c30-bab4-acf361fd5c76",
   "metadata": {},
   "source": [
    "## Average Monthly Price per Facilities"
   ]
  },
  {
   "cell_type": "code",
   "execution_count": null,
   "id": "c3a14f93-f75a-4c57-9364-a83bcdd470e2",
   "metadata": {},
   "outputs": [],
   "source": [
    "df_cleaned = df_cleaned.reset_index()"
   ]
  },
  {
   "cell_type": "code",
   "execution_count": null,
   "id": "d3ec2937-90d3-4640-9abe-c49b7a2b5cd6",
   "metadata": {
    "scrolled": true
   },
   "outputs": [],
   "source": [
    "normal_facilities = df_cleaned['facilities'].str.split(',', expand=True)\n",
    "normal_facilities = normal_facilities.fillna('na')\n",
    "normal_facilities = normal_facilities.reset_index()\n",
    "normal_facilities\n",
    "\n",
    "extra_facilities = df_cleaned['additional_facilities'].str.split(',', expand=True).fillna('na').reset_index()\n",
    "extra_facilities\n",
    "\n",
    "# total_facilities = pd.concat([normal_facilities, extra_facilities], axis=1)\n",
    "total_facilities = pd.merge(normal_facilities, extra_facilities, how=\"inner\", on=[\"index\", \"index\"])\n",
    "total_facilities"
   ]
  },
  {
   "cell_type": "code",
   "execution_count": null,
   "id": "0f896fe7-5db2-48b7-b8db-9272b5e7d144",
   "metadata": {
    "scrolled": true
   },
   "outputs": [],
   "source": [
    "fac_col_name = total_facilities.columns\n",
    "new_fac_col_names = ['facility'+ str(i) for i in range(0,len(fac_col_name))]\n",
    "total_facilities.columns = new_fac_col_names\n",
    "total_facilities.rename(columns={'facility0': 'index'}, inplace=True)\n",
    "total_facilities.head()"
   ]
  },
  {
   "cell_type": "code",
   "execution_count": null,
   "id": "d8c9516f-ff5d-4550-9370-2c60f1b57645",
   "metadata": {
    "scrolled": true
   },
   "outputs": [],
   "source": [
    "df_new = pd.merge(df_cleaned, total_facilities, how=\"inner\", on=[\"index\", \"index\"])\n",
    "df_new = df_new.drop(['index'], axis=1)\n",
    "df_new.columns"
   ]
  },
  {
   "cell_type": "code",
   "execution_count": null,
   "id": "e4ae4d09-b589-403e-b941-48247a3f2e09",
   "metadata": {
    "scrolled": true
   },
   "outputs": [],
   "source": [
    "from sklearn.preprocessing import OneHotEncoder\n",
    "import pandas as pd\n",
    "\n",
    "columns_needed = [\n",
    "    'facility1', 'facility2', 'facility3', 'facility4', 'facility5',\n",
    "    'facility6', 'facility7', 'facility8', 'facility9', 'facility10',\n",
    "    'facility11', 'facility12', 'facility13', 'facility14', 'facility15',\n",
    "    'facility16', 'facility17', 'facility18', 'facility19', 'facility20'\n",
    "]\n",
    "\n",
    "encoder = OneHotEncoder(sparse_output=False, drop='first')\n",
    "encoded_array = encoder.fit_transform(df_new[columns_needed])\n",
    "encoded_feature_names = encoder.get_feature_names_out(columns_needed)\n",
    "encoded_df = pd.DataFrame(encoded_array, columns=encoded_feature_names)\n",
    "\n",
    "encoded_df = encoded_df.astype(int)\n",
    "# regex from chatgpt\n",
    "encoded_df.columns = encoded_df.columns.str.replace(r'facility\\d+_', '', regex=True)\n",
    "\n",
    "# combine both new and encoded data \n",
    "df_new = pd.concat([df_new, encoded_df], axis=1)\n",
    "df_new.head()"
   ]
  },
  {
   "cell_type": "code",
   "execution_count": null,
   "id": "d4e4add3-6c49-45cd-bd45-f80aead02653",
   "metadata": {
    "scrolled": true
   },
   "outputs": [],
   "source": [
    "df_new = df_new.drop(['facility1', 'facility2', 'facility3', 'facility4', 'facility5',\n",
    "    'facility6', 'facility7', 'facility8', 'facility9', 'facility10',\n",
    "    'facility11', 'facility12', 'facility13', 'facility14', 'facility15',\n",
    "    'facility16', 'facility17', 'facility18', 'facility19', 'facility20'], axis=1)"
   ]
  },
  {
   "cell_type": "code",
   "execution_count": null,
   "id": "4f8feafe-795d-47c1-b64b-300d08ec404b",
   "metadata": {},
   "outputs": [],
   "source": [
    "round(df_new.groupby(['property_type', 'facilities', 'additional_facilities'])['monthly_rent(RM)'].mean().sort_values(ascending=False).reset_index()).head(6)"
   ]
  },
  {
   "cell_type": "markdown",
   "id": "410c60ff-11cf-4a48-8f1d-8871b4a4c868",
   "metadata": {},
   "source": [
    "## Average parking space in each property_type "
   ]
  },
  {
   "cell_type": "code",
   "execution_count": null,
   "id": "66072cb2-3437-49ef-a542-cdf33d615aea",
   "metadata": {
    "scrolled": true
   },
   "outputs": [],
   "source": [
    "round(df_new.groupby(['property_type', 'parking'])['monthly_rent(RM)'].mean().sort_values(ascending=False).reset_index())"
   ]
  },
  {
   "cell_type": "markdown",
   "id": "2ff834bc-fc7d-4c8f-b14f-69eb73992863",
   "metadata": {
    "jp-MarkdownHeadingCollapsed": true
   },
   "source": [
    "---"
   ]
  },
  {
   "cell_type": "markdown",
   "id": "fb9f3606-2921-4585-aa71-47b27912c901",
   "metadata": {},
   "source": [
    "## Average room and price in different property_type "
   ]
  },
  {
   "cell_type": "code",
   "execution_count": null,
   "id": "31ccaf8b-3782-406d-843a-c78e4f9ed708",
   "metadata": {},
   "outputs": [],
   "source": [
    "df_new.groupby(['property_type', 'rooms'])['monthly_rent(RM)'].mean().sort_values(ascending=False).round().reset_index().head(10)"
   ]
  },
  {
   "cell_type": "markdown",
   "id": "c60e77f2-e1f7-4a1e-bbb5-bd0a579b2a56",
   "metadata": {},
   "source": [
    "---"
   ]
  },
  {
   "cell_type": "markdown",
   "id": "6f88d51b-5f54-474d-a952-30958c943bb1",
   "metadata": {},
   "source": [
    "### Average price with properties that has security "
   ]
  },
  {
   "cell_type": "code",
   "execution_count": null,
   "id": "8e87cade-9106-4c2a-a919-eac1ac5af2f0",
   "metadata": {
    "scrolled": true
   },
   "outputs": [],
   "source": [
    "round(df_new.groupby(['property_type', 'Security'])['monthly_rent(RM)'].mean().sort_values(ascending=False).reset_index())"
   ]
  },
  {
   "cell_type": "markdown",
   "id": "97110d99-6836-483f-ac36-b86e868444e8",
   "metadata": {},
   "source": [
    "---"
   ]
  },
  {
   "cell_type": "markdown",
   "id": "6cd94765-5f72-46b9-b481-130f009ebf69",
   "metadata": {},
   "source": [
    "### Average price based on region in KL  "
   ]
  },
  {
   "cell_type": "code",
   "execution_count": null,
   "id": "407cb177-1b08-4610-b06d-096c897b1d5a",
   "metadata": {
    "scrolled": true
   },
   "outputs": [],
   "source": [
    "AveragePrice = df_new.groupby(['region', 'property_type'])['monthly_rent(RM)'].mean().reset_index()\n",
    "round(AveragePrice)"
   ]
  },
  {
   "cell_type": "markdown",
   "id": "946c86aa-0ffb-49f9-9c0b-c6e0bcccf021",
   "metadata": {},
   "source": [
    "---"
   ]
  },
  {
   "cell_type": "markdown",
   "id": "050966fd-9d35-440e-a835-90ac94f07e26",
   "metadata": {},
   "source": [
    "# Cleaning the featured engineering data"
   ]
  },
  {
   "cell_type": "code",
   "execution_count": null,
   "id": "5234faa4-7527-41f7-a65d-9eee2e0e2fb1",
   "metadata": {},
   "outputs": [],
   "source": [
    "df_new.columns.duplicated().sum()"
   ]
  },
  {
   "cell_type": "code",
   "execution_count": null,
   "id": "df760c20-3981-403a-af16-e876fc5b4af0",
   "metadata": {
    "scrolled": true
   },
   "outputs": [],
   "source": [
    "print(df_new.columns.to_list(), flush=True)"
   ]
  },
  {
   "cell_type": "code",
   "execution_count": null,
   "id": "1a1b9b1d-0646-4af1-a9ab-acbe16cdb537",
   "metadata": {},
   "outputs": [],
   "source": [
    "# for col in another_df.columns:\n",
    "#     if '.' in col and col.split('.')[0] in another_df.columns:\n",
    "#         fixed_col = col.split('.')[0]\n",
    "#         print(fixed_col)\n"
   ]
  },
  {
   "cell_type": "code",
   "execution_count": null,
   "id": "81b692a4-151a-4cf1-aa6e-3e1b1b5bc518",
   "metadata": {},
   "outputs": [],
   "source": [
    "df_update = pd.read_csv('cleaned_df.csv', low_memory=False)\n",
    "df_update.head()"
   ]
  },
  {
   "cell_type": "code",
   "execution_count": null,
   "id": "3cb2c51c-87ff-4320-919c-88ffbed4a173",
   "metadata": {},
   "outputs": [],
   "source": [
    "df_new = df_update.drop(['Unnamed: 0.1', 'Unnamed: 0',' Club house',' Gymnasium', ' Jogging Track', ' Lift', ' Minimart',\n",
    "       ' Multipurpose hall', ' Parking', ' Playground', ' Sauna', ' Security',\n",
    "       ' Squash Court', ' Swimming Pool', ' Tennis Court', ' Barbeque area',\n",
    "       ' 11', 'Air-Cond', 'Cooking Allowed', 'Internet', 'Near KTM/LRT',\n",
    "       'Washing Machine', ' Cooking Allowed', ' Internet', ' Near KTM/LRT',\n",
    "       ' Washing Machine'], axis=1)"
   ]
  },
  {
   "cell_type": "markdown",
   "id": "711bd916-9c0e-42e6-aadf-a9e173828985",
   "metadata": {},
   "source": [
    "# EDA \n",
    " - Conduct descriptive statistics\n",
    " - Visualize data distributions and relationships\n",
    " - Identify patterns and trends\n",
    " - Formulate hypotheses based on observations"
   ]
  },
  {
   "cell_type": "code",
   "execution_count": null,
   "id": "2a64fedf-b776-4980-bda5-bc3164f03007",
   "metadata": {},
   "outputs": [],
   "source": [
    "df_new.head(3)"
   ]
  },
  {
   "cell_type": "markdown",
   "id": "a9783615-d17a-4744-904f-68cac6b093ac",
   "metadata": {},
   "source": [
    "### Average price based on region"
   ]
  },
  {
   "cell_type": "code",
   "execution_count": null,
   "id": "b05712d8-dcf9-4c28-978a-f83b242ab7b6",
   "metadata": {},
   "outputs": [],
   "source": [
    "import plotly.express as px\n",
    "AveragePrice = df_new.groupby(['region'])['monthly_rent(RM)'].mean().reset_index()\n",
    "\n",
    "\n",
    "fig = px.bar(\n",
    "    AveragePrice, \n",
    "    x='region',  \n",
    "    y='monthly_rent(RM)', \n",
    "    title='Distribution of Average Price Based on Region', \n",
    "    labels={'region': 'Region', 'monthly_rent(RM)': 'Average Monthly Rent (RM)'}\n",
    ")\n",
    "\n",
    "fig.show()"
   ]
  },
  {
   "cell_type": "markdown",
   "id": "f305e72b-fbd0-4942-a690-3319542915c9",
   "metadata": {},
   "source": [
    "---"
   ]
  },
  {
   "cell_type": "markdown",
   "id": "621aa8bb-2e64-436b-b8b6-390b2660be42",
   "metadata": {},
   "source": [
    "## Average Monthly Price with Security"
   ]
  },
  {
   "cell_type": "code",
   "execution_count": null,
   "id": "d2a09ac7-e258-4e6d-ae12-c230172da74e",
   "metadata": {},
   "outputs": [],
   "source": [
    "AverageWithSecurity = df_new.groupby('Security')['monthly_rent(RM)'].mean().reset_index()\n",
    "\n",
    "fig = px.bar(\n",
    "    AverageWithSecurity, \n",
    "    y='monthly_rent(RM)',  \n",
    "    x='Security', \n",
    "    title='Distribution of Average Price Based on Region', \n",
    "    labels={'monthly_rent(RM)': 'Rent', 'Security': 'Security'}\n",
    ")\n",
    "\n",
    "fig.show()"
   ]
  },
  {
   "cell_type": "markdown",
   "id": "ad3d3eed-52dc-4ab5-9694-0f82a21d99d4",
   "metadata": {},
   "source": [
    "### Distribution of Average price based on property type"
   ]
  },
  {
   "cell_type": "code",
   "execution_count": null,
   "id": "d56d7521-6f08-4f4c-b860-eaf247144991",
   "metadata": {
    "scrolled": true
   },
   "outputs": [],
   "source": [
    "AveragePropertyType = df_new.groupby('property_type')['monthly_rent(RM)'].mean().sort_values(ascending=False).reset_index()\n",
    "fig = px.bar(\n",
    "    AveragePropertyType.round(), \n",
    "    y='monthly_rent(RM)',  \n",
    "    x='property_type', \n",
    "    width= 900,\n",
    "    height= 600,\n",
    "    title='Distribution of Average Price Based on Property type', \n",
    "    labels={'monthly_rent(RM)': 'Rent', 'property_type': 'Property Type'}\n",
    ")\n",
    "\n",
    "fig.show()"
   ]
  },
  {
   "cell_type": "markdown",
   "id": "a04fe9d9-db9b-4f73-882b-34481591e207",
   "metadata": {},
   "source": [
    "---"
   ]
  },
  {
   "cell_type": "markdown",
   "id": "fdedb5bb-b8a5-4ca1-857d-18cb7fac2882",
   "metadata": {},
   "source": [
    "# Distribution of Average Rent for Apartments Based on Number of Rooms"
   ]
  },
  {
   "cell_type": "code",
   "execution_count": null,
   "id": "d1611bd7-21ba-49a9-9f6e-ccac58110a17",
   "metadata": {},
   "outputs": [],
   "source": [
    "apartments_only = df_new[df_new['property_type'] == 'Apartment']\n",
    "\n",
    "apartments_avg_rent = apartments_only.groupby(['rooms'])['monthly_rent(RM)'].mean().sort_values(ascending=False).reset_index()\n",
    "\n",
    "fig = px.bar(\n",
    "    apartments_avg_rent, \n",
    "    x='rooms', \n",
    "    y='monthly_rent(RM)',  \n",
    "    # width=900,\n",
    "    # height=600,\n",
    "    title='Distribution of Average Rent for Apartments Based on Number of Rooms', \n",
    "    labels={'monthly_rent(RM)': 'Rent (RM)', 'rooms': 'Number of Rooms'},\n",
    ")\n",
    "\n",
    "fig.show()"
   ]
  },
  {
   "cell_type": "markdown",
   "id": "e95f169a-91b8-43ac-8dc9-0cef8f00beb9",
   "metadata": {},
   "source": [
    "---"
   ]
  },
  {
   "cell_type": "markdown",
   "id": "1f8ef077-7af6-4788-bddf-d095376a18b9",
   "metadata": {},
   "source": [
    "### Distribution of Average Price based on Rent"
   ]
  },
  {
   "cell_type": "code",
   "execution_count": null,
   "id": "552c7656-d310-4465-b93f-05d66e19954f",
   "metadata": {},
   "outputs": [],
   "source": [
    "df_new.rooms = df_new.rooms.replace({'3.0': '3', '1.0':'1', '2.0': '2', \n",
    "                                     '6.0': '6', '4.0':'4', '5.0': '5', '7.0': '7', '9.0': '9', '10.0': '10', '0': 'NA'})\n",
    "AverageRooms = df_new.groupby('rooms')['monthly_rent(RM)'].mean().sort_values(ascending=True).reset_index()\n",
    "fig = px.bar(\n",
    "    AverageRooms.round(), \n",
    "    y='monthly_rent(RM)',  \n",
    "    x='rooms', \n",
    "    # width= 900,\n",
    "    # height= 900,\n",
    "    title='Distribution of Average Price Based on Property type', \n",
    "    labels={'monthly_rent(RM)': 'Rent', 'rooms': 'Rooms'}\n",
    ")\n",
    "\n",
    "fig.show()"
   ]
  },
  {
   "cell_type": "markdown",
   "id": "47d4161d-5f9b-428b-8957-928d43365328",
   "metadata": {},
   "source": [
    "---"
   ]
  },
  {
   "cell_type": "markdown",
   "id": "2a2e67e7-9721-4b1f-9bc2-559b8c715862",
   "metadata": {},
   "source": [
    "### Distribution of Average price based on parking space"
   ]
  },
  {
   "cell_type": "code",
   "execution_count": null,
   "id": "853a0eb7-fde8-4c37-8fd9-fba6624c0975",
   "metadata": {},
   "outputs": [],
   "source": [
    "# Note that some properties that are few 100k and above are maybe to buy not to rent properties"
   ]
  },
  {
   "cell_type": "code",
   "execution_count": null,
   "id": "7053df37-20c7-4753-90f9-229e7a98af94",
   "metadata": {},
   "outputs": [],
   "source": [
    "px.scatter(df_new, x='parking', y='monthly_rent(RM)',  \n",
    "           title='Distribution of Rent Based on Parking Space', hover_data=['parking'])"
   ]
  },
  {
   "cell_type": "markdown",
   "id": "c268aca2-304b-4bf4-a52b-6d41baa583e1",
   "metadata": {},
   "source": [
    "---"
   ]
  },
  {
   "cell_type": "markdown",
   "id": "0614aebd-8c67-43dc-8512-268215b1b0a7",
   "metadata": {},
   "source": [
    "# Hypotheses based on observations"
   ]
  },
  {
   "cell_type": "code",
   "execution_count": null,
   "id": "618276c4-5f51-4b8a-bb43-cb2591074313",
   "metadata": {
    "scrolled": true
   },
   "outputs": [],
   "source": [
    "region_property_type = df_new.groupby(['property_type', 'region'])['monthly_rent(RM)'].mean().reset_index()\n",
    "region_property_type\n",
    "fig = px.bar(\n",
    "    region_property_type, \n",
    "    x='property_type', \n",
    "    y='monthly_rent(RM)',  \n",
    "    width=900,\n",
    "    height=600,\n",
    "    title='Distribution of Average Price Based on Property Type and Region', \n",
    "    labels={'monthly_rent(RM)': 'Rent (RM)', 'property_type': 'Property Type', 'region': 'Region'},\n",
    "    hover_data=['region'],\n",
    "    color='region'\n",
    ")\n",
    "\n",
    "fig.show()"
   ]
  },
  {
   "cell_type": "code",
   "execution_count": null,
   "id": "fafdfdbf-09cd-443d-90bf-08a0ad811df0",
   "metadata": {},
   "outputs": [],
   "source": [
    "# H0 - Monthly Rent for Apartments is Selongor is not Lower than KL\n",
    "# HA = Monthly Rent for Apartments is Selongor is Lower than KL"
   ]
  },
  {
   "cell_type": "markdown",
   "id": "f6a112cc-8963-4152-82f2-5c0b77227b51",
   "metadata": {},
   "source": [
    "---"
   ]
  },
  {
   "cell_type": "markdown",
   "id": "0131e5b8-46bb-4123-bcd7-eb8ac28d5933",
   "metadata": {},
   "source": [
    "# Relevant statistical tests"
   ]
  },
  {
   "cell_type": "code",
   "execution_count": null,
   "id": "9826c556-6be6-4f19-8d05-d114c756e249",
   "metadata": {},
   "outputs": [],
   "source": [
    "apartment_selangor_mean_rent = df_new[(df_new['property_type'] == 'Apartment') & (df_new['region'] == 'Selangor')]['monthly_rent(RM)']\n",
    "apartment_kl_mean_rent = df_new[(df_new['property_type'] == 'Apartment') & (df_new['region'] == 'Kuala Lumpur')]['monthly_rent(RM)']\n",
    "apartment_selangor_mean_rent,apartment_kl_mean_rent"
   ]
  },
  {
   "cell_type": "code",
   "execution_count": null,
   "id": "68f8bccf-440e-4402-b295-1c2c9e8afdfe",
   "metadata": {},
   "outputs": [],
   "source": [
    "from scipy import stats \n",
    "\n",
    "t_test,p_val = stats.ttest_ind(apartment_selangor_mean_rent, apartment_kl_mean_rent,nan_policy='omit', axis=0)\n",
    "t_test,p_val"
   ]
  },
  {
   "cell_type": "code",
   "execution_count": null,
   "id": "d057228b-60f9-4200-8eab-b8a272ea4217",
   "metadata": {},
   "outputs": [],
   "source": [
    "if p_val < 0.05:\n",
    "    print(\"Reject the null hypothesis: The average rent for apartments in Selangor is significantly lower than in KL.\")\n",
    "else:\n",
    "    print(\"Fail to reject the null hypothesis: No significant difference in average rent for apartments in Selangor and KL.\")"
   ]
  },
  {
   "cell_type": "markdown",
   "id": "9e40dd8e-1af4-4d53-8340-907ff37a60cc",
   "metadata": {},
   "source": [
    "---"
   ]
  },
  {
   "cell_type": "markdown",
   "id": "9d638341-aa70-492a-9338-86e5a9f52c02",
   "metadata": {},
   "source": [
    "# Insights and recommendations"
   ]
  },
  {
   "cell_type": "markdown",
   "id": "c40ad9ac-6b05-47e9-b2fb-c0ebf0b50dbb",
   "metadata": {},
   "source": [
    "1. Conclusion\n",
    "   - The average rent for apartments in Selangor is significantly lower than in Kuala Lumpur (KL). This likely is due to KL's status as a central buiness hub / city area\n",
    "2. Recommendations\n",
    "   - Renters who prioritize cost savings, looking for apartments in Selangor rather than KL can offer significant savings, with rents begin lower on average. This couldbe beneficial for those who do not require daily access to KL.\n",
    "3. Limitations\n",
    "   - There may be biases / outliers in my dataset / missing values or because these insights are only for apartments. These baises could affect the conclusion drawn."
   ]
  },
  {
   "cell_type": "markdown",
   "id": "7a496e47-8244-41e7-bc7e-0fd4de4403fa",
   "metadata": {},
   "source": [
    "# Machine learning model development"
   ]
  },
  {
   "cell_type": "code",
   "execution_count": null,
   "id": "6a84929d-cc0f-4aca-b136-b381492ac788",
   "metadata": {},
   "outputs": [],
   "source": [
    "# Cleaning size to float\n",
    "df_new['size'] = df_new['size'].str.replace(r'\\s+sq\\.ft\\.', '', regex=True).astype(float)\n",
    "df_new['size']"
   ]
  },
  {
   "cell_type": "code",
   "execution_count": null,
   "id": "b93b93b6-7b7f-4367-9fbd-92a187216686",
   "metadata": {
    "scrolled": true
   },
   "outputs": [],
   "source": [
    "df_new.info()"
   ]
  },
  {
   "cell_type": "code",
   "execution_count": null,
   "id": "e5cf6f23-1eb6-4f0d-bbc0-2be2e3092ead",
   "metadata": {},
   "outputs": [],
   "source": [
    "df_new = df_new.drop(['prop_name', 'location', 'furnished', 'unknown'], axis=1)"
   ]
  },
  {
   "cell_type": "code",
   "execution_count": null,
   "id": "94be939b-d012-42e7-b456-807f66699a23",
   "metadata": {},
   "outputs": [],
   "source": [
    "from sklearn.preprocessing import LabelEncoder\n",
    "encoder = LabelEncoder()\n",
    "df_new['property_type'] = encoder.fit_transform(df_new['property_type'])\n",
    "df_new['region'] = encoder.fit_transform(df_new['region'])\n",
    "df_new['rooms'] = encoder.fit_transform(df_new['rooms'])\n",
    "df_new.info()"
   ]
  },
  {
   "cell_type": "code",
   "execution_count": null,
   "id": "138ae9d8-11b1-48f0-8cbb-1e1631a1ab1d",
   "metadata": {},
   "outputs": [],
   "source": [
    "df_new['monthly_rent(RM)'] = df_new['monthly_rent(RM)'].astype(float)"
   ]
  },
  {
   "cell_type": "code",
   "execution_count": null,
   "id": "b6de642f-5dcd-4e25-b61a-25f92e50cf1d",
   "metadata": {},
   "outputs": [],
   "source": []
  },
  {
   "cell_type": "code",
   "execution_count": null,
   "id": "3d6e3a37-e1fd-4294-bcd4-7d5d84974d53",
   "metadata": {},
   "outputs": [],
   "source": [
    "x = df_new.drop('monthly_rent(RM)', axis=1)\n",
    "y = df_new['monthly_rent(RM)']"
   ]
  },
  {
   "cell_type": "code",
   "execution_count": null,
   "id": "edc46d1f-79b0-4eeb-ae5e-38db2a35554b",
   "metadata": {},
   "outputs": [],
   "source": [
    "from sklearn.model_selection import train_test_split\n",
    "x_train, x_test, y_train, y_test = train_test_split(x, y, test_size=0.2, random_state=12)\n",
    "x_train.shape, x_test.shape, y_train.shape, y_test.shape"
   ]
  },
  {
   "cell_type": "code",
   "execution_count": null,
   "id": "6eb462e5-0451-43fa-b555-7567c2978f83",
   "metadata": {},
   "outputs": [],
   "source": [
    "from sklearn.preprocessing import StandardScaler\n",
    "scaler = StandardScaler()\n",
    "scaler"
   ]
  },
  {
   "cell_type": "code",
   "execution_count": null,
   "id": "51dc966f-3346-4294-9105-42fb207bf750",
   "metadata": {},
   "outputs": [],
   "source": [
    "x_train = scaler.fit_transform(x_train)\n",
    "x_test = scaler.transform(x_test)"
   ]
  },
  {
   "cell_type": "code",
   "execution_count": null,
   "id": "f1d42f6b-816b-4f26-9640-aa6bc71a688e",
   "metadata": {},
   "outputs": [],
   "source": [
    "x_train, x_test"
   ]
  },
  {
   "cell_type": "code",
   "execution_count": null,
   "id": "cfc3e915-cf95-43d1-844a-c5c3dd9c21b0",
   "metadata": {},
   "outputs": [],
   "source": [
    "# numeric_features = x.select_dtypes(include=['int64', 'float']).columns\n",
    "# categorical_features = x.select_dtypes(include=['object']).columns\n",
    "# numeric_features,categorical_features"
   ]
  },
  {
   "cell_type": "code",
   "execution_count": null,
   "id": "11963518-90c7-4151-b53f-1ce039102c14",
   "metadata": {},
   "outputs": [],
   "source": [
    "from sklearn.compose import ColumnTransformer\n",
    "from sklearn.preprocessing import StandardScaler\n",
    "need_scale = ['monthly_rent(RM)', 'size']\n",
    "preprocessor = ColumnTransformer(transformers=[\n",
    "    ('num', StandardScaler(), need_scale),\n",
    "    # ('cat', OneHotEncoder(drop='first', sparse_output=False), categorical_features)\n",
    "])\n",
    "preprocessor"
   ]
  },
  {
   "cell_type": "code",
   "execution_count": null,
   "id": "684ad0cc-aed6-4fff-bd23-8c7794d91a36",
   "metadata": {},
   "outputs": [],
   "source": [
    "# Linear Regression Models\n",
    "from sklearn.linear_model import LinearRegression\n",
    "from sklearn.linear_model import Ridge, Lasso, ElasticNet\n",
    "\n",
    "# Tree mou Models\n",
    "from sklearn.tree import DecisionTreeRegressor\n",
    "from sklearn.ensemble import RandomForestRegressor, GradientBoostingRegressor\n",
    "from xgboost import XGBRegressor\n",
    "\n",
    "models = {\n",
    "    'Linear Regression': LinearRegression(),\n",
    "    'Ridge Regression': Ridge(),\n",
    "    'Lasso Regression': Lasso(),\n",
    "    'Decision Tree': DecisionTreeRegressor(random_state=12),\n",
    "    'Random forest': RandomForestRegressor(random_state=12),\n",
    "    'Gradient Boost Regressor': GradientBoostingRegressor(random_state=12)\n",
    "}"
   ]
  },
  {
   "cell_type": "markdown",
   "id": "d3b7a9da-fa63-4a01-a9a5-b9c7f50dbdf4",
   "metadata": {},
   "source": [
    "# Model Evaluation"
   ]
  },
  {
   "cell_type": "code",
   "execution_count": null,
   "id": "18eff1dc-d250-4a7d-a0d5-770a162b6bf1",
   "metadata": {},
   "outputs": [],
   "source": [
    "from sklearn.metrics import mean_absolute_error, mean_squared_error, r2_score\n",
    "\n",
    "def evaluate_model(model, x_train, x_test,y_train, y_test):\n",
    "    model.fit(x_train,y_train)\n",
    "    y_pred = model.predict(x_test)\n",
    "    mae = mean_absolute_error(y_test, y_pred)\n",
    "    mse = mean_squared_error(y_test, y_pred) \n",
    "    rmse = np.sqrt(mse)\n",
    "    r2 = r2_score(y_test, y_pred)\n",
    "    return mae,r2, rmse"
   ]
  },
  {
   "cell_type": "code",
   "execution_count": null,
   "id": "0e1c9235-f56b-4939-a9ec-f537760f3996",
   "metadata": {
    "jupyter": {
     "source_hidden": true
    }
   },
   "outputs": [],
   "source": [
    "# from sklearn.metrics import mean_absolute_error, mean_squared_error, r2_score\n",
    "\n",
    "# def evaluate_model(models, x_train, x_test,y_train, y_test):\n",
    "#     for model in models:\n",
    "#         model.fit(x_train,y_train)\n",
    "#         y_pred = model.predict(x_test)\n",
    "#         mae = mean_absolute_error(y_test, y_pred)\n",
    "#         print(mae)\n",
    "#         sort_mse = np.sort(mean_absolute_error(y_test, y_pred))\n",
    "#         mse = mean_squared_error(y_test, y_pred)\n",
    "#         rmse = np.sqrt(mse)\n",
    "#         r2 = r2_score(y_test, y_pred)\n",
    "#         return mae,rmse,r2,sort_mae"
   ]
  },
  {
   "cell_type": "code",
   "execution_count": null,
   "id": "a25dd75a-5b1b-480d-b258-ba35de2f8f67",
   "metadata": {
    "scrolled": true
   },
   "outputs": [],
   "source": [
    "#  # comparing which model is better\n",
    "from sklearn.pipeline import Pipeline\n",
    "from sklearn.model_selection import cross_val_score\n",
    "results = []\n",
    "for modelName, model in models.items():\n",
    "    pipeline = Pipeline([\n",
    "        # ('preprocessor', preprocessor),\n",
    "        ('regressor', model)\n",
    "    ])\n",
    "    mae,rmse,r2 = evaluate_model(pipeline, x_train, x_test, y_train, y_test)\n",
    "    print(mae,rmse,r2)\n",
    "    # cv_scores = cross_val_score(pipeline, x, y, cv=5, scoring='neg_mean_squared_error')\n",
    "    # cv_rmse = np.sqrt(-cv_scores.mean())\n",
    "    # results.append({\n",
    "    #     'Model': modelName,\n",
    "    #     'MAE': mae,\n",
    "    #     \"RMSE\": rmse,\n",
    "    #     'R2': r2,\n",
    "    #     'Cross_V RMSE': cv_rmse,\n",
    "    # })"
   ]
  },
  {
   "cell_type": "code",
   "execution_count": null,
   "id": "cfd5a2dc-2c68-4e34-a59a-fdce41f118a6",
   "metadata": {},
   "outputs": [],
   "source": [
    "results = pd.DataFrame(results)\n",
    "results"
   ]
  },
  {
   "cell_type": "code",
   "execution_count": null,
   "id": "52757545-bfba-449f-8fc4-8e5ee147fea7",
   "metadata": {},
   "outputs": [],
   "source": []
  }
 ],
 "metadata": {
  "kernelspec": {
   "display_name": "Python 3 (ipykernel)",
   "language": "python",
   "name": "python3"
  },
  "language_info": {
   "codemirror_mode": {
    "name": "ipython",
    "version": 3
   },
   "file_extension": ".py",
   "mimetype": "text/x-python",
   "name": "python",
   "nbconvert_exporter": "python",
   "pygments_lexer": "ipython3",
   "version": "3.12.2"
  }
 },
 "nbformat": 4,
 "nbformat_minor": 5
}
