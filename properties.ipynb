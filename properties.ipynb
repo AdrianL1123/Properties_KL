{
 "cells": [
  {
   "cell_type": "raw",
   "id": "92556195-afd9-4ce9-83bc-bbb9cd3014d7",
   "metadata": {},
   "source": [
    "Adrian\n",
    "- Property dataset (web scrapping)\n",
    "    - (https://www.propertyguru.com.my/property-listing/arcadia-penang-for-rent-by-sunny-yang-41414059)\n",
    "- Analysis/ML\n",
    "- Problem statement\n",
    "- Methodology"
   ]
  },
  {
   "cell_type": "raw",
   "id": "3e4c8b74-fc9f-4c45-9769-ae0baf417d2d",
   "metadata": {},
   "source": [
    "Properties that offers great value in Penang\n",
    "\n",
    " - Problem Statement:\n",
    "    - Relevance - Since many people are working with limited budgets, finding great \n",
    "                  value properties in Penang is essential for affordable \n",
    "                  homeownership.\n",
    "    - Context - Penang’s property market is diverse, with varying price \n",
    "                points and locations.\n",
    "    - Issue - Struggle to identify properties that balance affordability \n",
    "              with long-term satisfaction.\n",
    "    - Impact - This difficulty can lead to poor investment choices, financial \n",
    "               strain, and limited homeownership opportunities.\n",
    "    - Vision - Let people make good decisions when buying a property with no \n",
    "               regrets.\n",
    "\n",
    "\n",
    " - Dataset: https://www.propertyguru.com.my/property-for-sale/in-penang-my07\n",
    "    - Example datas includes: Address, Price, sqft, no of. restrooms, etc.\n",
    "\n",
    "\n",
    " - Analysis/ML:\n",
    "    - Location Analysis: Identify key areas in Penang where properties are \n",
    "      more affordable and has factors like accessibility, amenities nearby.\n",
    "\n",
    "    - Property Features: Examine the features and conditions of properties that \n",
    "      offer good value, such as size, layout, build quality, and other \n",
    "      characteristics."
   ]
  },
  {
   "cell_type": "raw",
   "id": "b859079f-e549-4448-b233-334659d87e7f",
   "metadata": {},
   "source": [
    "- Methodology: \n",
    "    - Webscrape data from Property Guru Website\n",
    "    - Clean data / Remove noise\n",
    "    - Convert categorical features into numerical if needed \n",
    "    - spilt data\n",
    "    - train and test model (not sure what model to use yet)\n",
    "    - calc accuracy"
   ]
  },
  {
   "cell_type": "code",
   "execution_count": null,
   "id": "7c6fd11b-0eda-4004-8219-647ff503c340",
   "metadata": {},
   "outputs": [],
   "source": []
  }
 ],
 "metadata": {
  "kernelspec": {
   "display_name": "Python 3 (ipykernel)",
   "language": "python",
   "name": "python3"
  },
  "language_info": {
   "codemirror_mode": {
    "name": "ipython",
    "version": 3
   },
   "file_extension": ".py",
   "mimetype": "text/x-python",
   "name": "python",
   "nbconvert_exporter": "python",
   "pygments_lexer": "ipython3",
   "version": "3.12.2"
  }
 },
 "nbformat": 4,
 "nbformat_minor": 5
}
