{
 "cells": [
  {
   "cell_type": "markdown",
   "id": "7cc1ad6c-f930-4c2c-ac44-9bb9a6ee86f8",
   "metadata": {},
   "source": [
    "# Web Scrapping"
   ]
  },
  {
   "cell_type": "code",
   "execution_count": 3,
   "id": "713fc068-979e-4276-b57b-e2959153e8fb",
   "metadata": {},
   "outputs": [],
   "source": [
    "from selenium import webdriver\n",
    "from selenium.webdriver.common.by import By\n",
    "import time\n",
    "from selenium.webdriver.support.ui import WebDriverWait\n",
    "from selenium.webdriver.support import expected_conditions as EC\n",
    "import pandas as pd \n",
    "import numpy as np"
   ]
  },
  {
   "cell_type": "code",
   "execution_count": 4,
   "id": "328025d2-126b-49c0-97a8-99b45b1bacf3",
   "metadata": {
    "jupyter": {
     "source_hidden": true
    },
    "scrolled": true
   },
   "outputs": [],
   "source": [
    "# driver = webdriver.Chrome()\n",
    "# driver.get(\"https://www.iproperty.com.my/sale/penang/all-residential/\")\n",
    "\n",
    "# time.sleep(3) \n",
    "\n",
    "# for i in range(25):\n",
    "#     try:\n",
    "#         # property_container = driver.find_element(By.XPATH, \".//div[@class='ListingsListstyle__ListingResultPage-iIneXB dBXYzA']\")\n",
    "#         property_container = driver.find_element(By.XPATH, \"//ul[@class='ListingsListstyle__ListingsListContainer-dAfITF hkxQlK listing-list']\")\n",
    "#         print(property_container)\n",
    "#         properties = property_container.find_elements(By.CSS_SELECTOR, \".ListingsListstyle__ListingListItemWrapper-hjHtwj.eUjjMH.sale-102366737\")\n",
    "        \n",
    "#         properties[i].click()\n",
    "#         time.sleep(2)  # Wait for the new page to load\n",
    "        \n",
    "#         # Extract the property name using the correct selector\n",
    "#         property_name = WebDriverWait(driver, 10).until(\n",
    "#             EC.presence_of_element_located((By.TAG_NAME, \"h1\"))\n",
    "#         ).text\n",
    "        \n",
    "#         property_address = WebDriverWait(driver, 10).until(\n",
    "#             EC.presence_of_element_located((By.TAG_NAME, \"h3\"))\n",
    "#         ).text\n",
    "\n",
    "#         property_size = WebDriverWait(driver, 10).until(\n",
    "#             EC.presence_of_element_located((By.XPATH, \".//div[@class='ListingDescriptionstyle__Headline-CtOKw gDpweD']\"))\n",
    "#         ).text\n",
    "\n",
    "#         try:\n",
    "#             show_more_button = WebDriverWait(driver, 10).until(\n",
    "#                 EC.presence_of_element_located((By.XPATH, \".//div[@id='property-details']//a[contains(text(),'Show more')]\"))\n",
    "#             )\n",
    "#             show_more_button.click()\n",
    "#             time.sleep(1)  \n",
    "#         except:\n",
    "#             # print(\"No 'Show More' button found, or couldn't click it.\")\n",
    "#             print(0)\n",
    "\n",
    "#         try:\n",
    "#         # Extract the property details\n",
    "#             property_details = WebDriverWait(driver, 5).until(\n",
    "#             EC.presence_of_element_located((By.XPATH, \".//div[@id='property-details']\"))\n",
    "#             ).text\n",
    "            \n",
    "#         except: \n",
    "#             # print('No property details skipping for now.')\n",
    "#             # same thing but just to clean data easier \n",
    "#             print(0)\n",
    "        \n",
    "#         # print(f\"Property Name: {property_name}, Property Address: {property_address}, Property Size: {property_size}\")\n",
    "#         # print(f'Property Details: {property_details}')\n",
    "        \n",
    "#         driver.back()  # Go back to the listings page\n",
    "#         time.sleep(3)\n",
    "        \n",
    "#     except Exception as e:\n",
    "#         print(f\"Error: {e}\")\n",
    "#         continue\n",
    "\n",
    "# driver.quit()"
   ]
  },
  {
   "cell_type": "code",
   "execution_count": 5,
   "id": "53bdb463-aa4c-47c2-adcb-e01c2b849e5d",
   "metadata": {
    "jupyter": {
     "source_hidden": true
    }
   },
   "outputs": [],
   "source": [
    "# driver = webdriver.Chrome()\n",
    "# driver.get(\"https://www.iproperty.com.my/sale/penang/all-residential/\")\n",
    "# time.sleep(3)\n",
    "\n",
    "# try:\n",
    "#     property_container = WebDriverWait(driver, 10).until(\n",
    "#         EC.presence_of_element_located((By.XPATH, \"//ul[@class='ListingsListstyle__ListingsListContainer-dAfITF hkxQlK listing-list']\"))\n",
    "#     )\n",
    "#     properties = property_container.find_elements(By.XPATH, \".//li[contains(@class, 'ListingsListstyle__ListingListItemWrapper-hjHtwj')]\")\n",
    "\n",
    "#     print(f\"Found {len(properties)} properties\")\n",
    "\n",
    "#     for prop in properties:\n",
    "#         try:\n",
    "#             property_name = prop.find_element(By.XPATH, \".//h2\").text\n",
    "#             property_price = prop.find_element(By.XPATH, \"//li[@class='ListingPricestyle__ItemWrapper-etxdML ejAiy']\").text\n",
    "#             # property_details = prop.find_element(By.XPATH, \"//p[contains(@class, 'ListingAttributesstyle__ListingAttrsDescriptionItemWrapper') and contains(@class, 'attributes-description-item')]\").text\n",
    "            \n",
    "#             prop.click()\n",
    "#             try:\n",
    "#                 show_more_button = WebDriverWait(driver, 10).until(\n",
    "#                     EC.presence_of_element_located((By.XPATH, \".//div[@id='property-details']//a[contains(text(),'Show more')]\"))\n",
    "#                 )\n",
    "#                 show_more_button.click()\n",
    "#                 time.sleep(1)  \n",
    "#             except:\n",
    "#                 # print(\"No 'Show More' button found, or couldn't click it.\")\n",
    "#                 print(0)\n",
    "    \n",
    "#             try:\n",
    "#                 # Extract the property details\n",
    "#                 property_details = WebDriverWait(driver, 10).until(\n",
    "#                 EC.presence_of_element_located((By.XPATH, \"//div[@id='property-details']\"))\n",
    "#                 ).text\n",
    "                \n",
    "#             except: \n",
    "#                 # print('No property details skipping for now.')\n",
    "#                 # same thing but just to clean data easier \n",
    "#                 print(0)\n",
    "\n",
    "#             driver.back()  # Go back to the listings page\n",
    "#             time.sleep(2)\n",
    "            \n",
    "            \n",
    "#             print(f\"Property Name: {property_name}\")\n",
    "#             print(f\"Price: {property_price}\")\n",
    "#             print(f\"Details: {property_details}\")\n",
    "#             print(\"-\" * 50)\n",
    "\n",
    "#         except Exception as e:\n",
    "#             print(f\"Error extracting property details: {e}\")\n",
    "\n",
    "# except Exception as e:\n",
    "#     print(f\"Error: {e}\")\n",
    "\n",
    "# finally:\n",
    "#     driver.quit()"
   ]
  },
  {
   "cell_type": "markdown",
   "id": "0264465c-11be-409a-9089-7a28cceaeccf",
   "metadata": {},
   "source": [
    "# Dataset (from the goat)"
   ]
  },
  {
   "cell_type": "code",
   "execution_count": 7,
   "id": "30daf60f-ce82-47d6-a46f-1ef86e0429d0",
   "metadata": {},
   "outputs": [
    {
     "data": {
      "text/html": [
       "<div>\n",
       "<style scoped>\n",
       "    .dataframe tbody tr th:only-of-type {\n",
       "        vertical-align: middle;\n",
       "    }\n",
       "\n",
       "    .dataframe tbody tr th {\n",
       "        vertical-align: top;\n",
       "    }\n",
       "\n",
       "    .dataframe thead th {\n",
       "        text-align: right;\n",
       "    }\n",
       "</style>\n",
       "<table border=\"1\" class=\"dataframe\">\n",
       "  <thead>\n",
       "    <tr style=\"text-align: right;\">\n",
       "      <th></th>\n",
       "      <th>ads_id</th>\n",
       "      <th>prop_name</th>\n",
       "      <th>completion_year</th>\n",
       "      <th>monthly_rent</th>\n",
       "      <th>location</th>\n",
       "      <th>property_type</th>\n",
       "      <th>rooms</th>\n",
       "      <th>parking</th>\n",
       "      <th>bathroom</th>\n",
       "      <th>size</th>\n",
       "      <th>furnished</th>\n",
       "      <th>facilities</th>\n",
       "      <th>additional_facilities</th>\n",
       "      <th>region</th>\n",
       "    </tr>\n",
       "  </thead>\n",
       "  <tbody>\n",
       "    <tr>\n",
       "      <th>0</th>\n",
       "      <td>100323185</td>\n",
       "      <td>The Hipster @ Taman Desa</td>\n",
       "      <td>2022.0</td>\n",
       "      <td>RM 4 200 per month</td>\n",
       "      <td>Kuala Lumpur - Taman Desa</td>\n",
       "      <td>Condominium</td>\n",
       "      <td>5</td>\n",
       "      <td>2.0</td>\n",
       "      <td>6.0</td>\n",
       "      <td>1842 sq.ft.</td>\n",
       "      <td>Fully Furnished</td>\n",
       "      <td>Minimart, Gymnasium, Security, Playground, Swi...</td>\n",
       "      <td>Air-Cond, Cooking Allowed, Washing Machine</td>\n",
       "      <td>Kuala Lumpur</td>\n",
       "    </tr>\n",
       "    <tr>\n",
       "      <th>1</th>\n",
       "      <td>100203973</td>\n",
       "      <td>Segar Courts</td>\n",
       "      <td>NaN</td>\n",
       "      <td>RM 2 300 per month</td>\n",
       "      <td>Kuala Lumpur - Cheras</td>\n",
       "      <td>Condominium</td>\n",
       "      <td>3</td>\n",
       "      <td>1.0</td>\n",
       "      <td>2.0</td>\n",
       "      <td>1170 sq.ft.</td>\n",
       "      <td>Partially Furnished</td>\n",
       "      <td>Playground, Parking, Barbeque area, Security, ...</td>\n",
       "      <td>Air-Cond, Cooking Allowed, Near KTM/LRT</td>\n",
       "      <td>Kuala Lumpur</td>\n",
       "    </tr>\n",
       "    <tr>\n",
       "      <th>2</th>\n",
       "      <td>100323128</td>\n",
       "      <td>Pangsapuri Teratak Muhibbah 2</td>\n",
       "      <td>NaN</td>\n",
       "      <td>RM 1 000 per month</td>\n",
       "      <td>Kuala Lumpur - Taman Desa</td>\n",
       "      <td>Apartment</td>\n",
       "      <td>3</td>\n",
       "      <td>NaN</td>\n",
       "      <td>2.0</td>\n",
       "      <td>650 sq.ft.</td>\n",
       "      <td>Fully Furnished</td>\n",
       "      <td>Minimart, Jogging Track, Lift, Swimming Pool</td>\n",
       "      <td>NaN</td>\n",
       "      <td>Kuala Lumpur</td>\n",
       "    </tr>\n",
       "    <tr>\n",
       "      <th>3</th>\n",
       "      <td>100191767</td>\n",
       "      <td>Sentul Point Suite Apartment</td>\n",
       "      <td>2020.0</td>\n",
       "      <td>RM 1 700 per month</td>\n",
       "      <td>Kuala Lumpur - Sentul</td>\n",
       "      <td>Apartment</td>\n",
       "      <td>2</td>\n",
       "      <td>1.0</td>\n",
       "      <td>2.0</td>\n",
       "      <td>743 sq.ft.</td>\n",
       "      <td>Partially Furnished</td>\n",
       "      <td>Parking, Playground, Swimming Pool, Squash Cou...</td>\n",
       "      <td>Cooking Allowed, Near KTM/LRT, Washing Machine</td>\n",
       "      <td>Kuala Lumpur</td>\n",
       "    </tr>\n",
       "    <tr>\n",
       "      <th>4</th>\n",
       "      <td>97022692</td>\n",
       "      <td>Arte Mont Kiara</td>\n",
       "      <td>NaN</td>\n",
       "      <td>RM 1 299 per month</td>\n",
       "      <td>Kuala Lumpur - Mont Kiara</td>\n",
       "      <td>Service Residence</td>\n",
       "      <td>1</td>\n",
       "      <td>1.0</td>\n",
       "      <td>1.0</td>\n",
       "      <td>494 sq.ft.</td>\n",
       "      <td>Not Furnished</td>\n",
       "      <td>Parking, Security, Lift, Swimming Pool, Playgr...</td>\n",
       "      <td>Air-Cond</td>\n",
       "      <td>Kuala Lumpur</td>\n",
       "    </tr>\n",
       "  </tbody>\n",
       "</table>\n",
       "</div>"
      ],
      "text/plain": [
       "      ads_id                      prop_name  completion_year  \\\n",
       "0  100323185       The Hipster @ Taman Desa           2022.0   \n",
       "1  100203973                   Segar Courts              NaN   \n",
       "2  100323128  Pangsapuri Teratak Muhibbah 2              NaN   \n",
       "3  100191767   Sentul Point Suite Apartment           2020.0   \n",
       "4   97022692                Arte Mont Kiara              NaN   \n",
       "\n",
       "         monthly_rent                   location      property_type rooms  \\\n",
       "0  RM 4 200 per month  Kuala Lumpur - Taman Desa        Condominium     5   \n",
       "1  RM 2 300 per month      Kuala Lumpur - Cheras        Condominium     3   \n",
       "2  RM 1 000 per month  Kuala Lumpur - Taman Desa          Apartment     3   \n",
       "3  RM 1 700 per month      Kuala Lumpur - Sentul          Apartment     2   \n",
       "4  RM 1 299 per month  Kuala Lumpur - Mont Kiara  Service Residence     1   \n",
       "\n",
       "   parking  bathroom         size            furnished  \\\n",
       "0      2.0       6.0  1842 sq.ft.      Fully Furnished   \n",
       "1      1.0       2.0  1170 sq.ft.  Partially Furnished   \n",
       "2      NaN       2.0   650 sq.ft.      Fully Furnished   \n",
       "3      1.0       2.0   743 sq.ft.  Partially Furnished   \n",
       "4      1.0       1.0   494 sq.ft.        Not Furnished   \n",
       "\n",
       "                                          facilities  \\\n",
       "0  Minimart, Gymnasium, Security, Playground, Swi...   \n",
       "1  Playground, Parking, Barbeque area, Security, ...   \n",
       "2       Minimart, Jogging Track, Lift, Swimming Pool   \n",
       "3  Parking, Playground, Swimming Pool, Squash Cou...   \n",
       "4  Parking, Security, Lift, Swimming Pool, Playgr...   \n",
       "\n",
       "                            additional_facilities        region  \n",
       "0      Air-Cond, Cooking Allowed, Washing Machine  Kuala Lumpur  \n",
       "1         Air-Cond, Cooking Allowed, Near KTM/LRT  Kuala Lumpur  \n",
       "2                                             NaN  Kuala Lumpur  \n",
       "3  Cooking Allowed, Near KTM/LRT, Washing Machine  Kuala Lumpur  \n",
       "4                                        Air-Cond  Kuala Lumpur  "
      ]
     },
     "execution_count": 7,
     "metadata": {},
     "output_type": "execute_result"
    }
   ],
   "source": [
    "df = pd.read_csv('mudah-apartment-kl-selangor.csv')\n",
    "df.head()"
   ]
  },
  {
   "cell_type": "markdown",
   "id": "682e03c4-7d81-4229-ab24-aff175da1cfb",
   "metadata": {},
   "source": [
    "# Data Cleaning (handling missing values)"
   ]
  },
  {
   "cell_type": "code",
   "execution_count": 9,
   "id": "d40e52b5-87a1-4225-b9a5-ed844268d612",
   "metadata": {
    "scrolled": true
   },
   "outputs": [
    {
     "data": {
      "text/plain": [
       "Index(['ads_id', 'prop_name', 'completion_year', 'monthly_rent', 'location',\n",
       "       'property_type', 'rooms', 'parking', 'bathroom', 'size', 'furnished',\n",
       "       'facilities', 'additional_facilities', 'region'],\n",
       "      dtype='object')"
      ]
     },
     "execution_count": 9,
     "metadata": {},
     "output_type": "execute_result"
    }
   ],
   "source": [
    "df.columns"
   ]
  },
  {
   "cell_type": "code",
   "execution_count": 10,
   "id": "384770a9-c236-45c5-bf5c-ba858dbe186c",
   "metadata": {},
   "outputs": [
    {
     "data": {
      "text/plain": [
       "ads_id                      0\n",
       "prop_name                 948\n",
       "completion_year          9185\n",
       "monthly_rent                2\n",
       "location                    0\n",
       "property_type               0\n",
       "rooms                       6\n",
       "parking                  5702\n",
       "bathroom                    6\n",
       "size                        0\n",
       "furnished                   5\n",
       "facilities               2209\n",
       "additional_facilities    5948\n",
       "region                      0\n",
       "dtype: int64"
      ]
     },
     "execution_count": 10,
     "metadata": {},
     "output_type": "execute_result"
    }
   ],
   "source": [
    "df.isna().sum()"
   ]
  },
  {
   "cell_type": "code",
   "execution_count": 11,
   "id": "b23edcfa-a273-4a34-84a2-c61e2b628c74",
   "metadata": {},
   "outputs": [
    {
     "name": "stdout",
     "output_type": "stream",
     "text": [
      "<class 'pandas.core.frame.DataFrame'>\n",
      "RangeIndex: 19991 entries, 0 to 19990\n",
      "Data columns (total 14 columns):\n",
      " #   Column                 Non-Null Count  Dtype  \n",
      "---  ------                 --------------  -----  \n",
      " 0   ads_id                 19991 non-null  int64  \n",
      " 1   prop_name              19043 non-null  object \n",
      " 2   completion_year        10806 non-null  float64\n",
      " 3   monthly_rent           19989 non-null  object \n",
      " 4   location               19991 non-null  object \n",
      " 5   property_type          19991 non-null  object \n",
      " 6   rooms                  19985 non-null  object \n",
      " 7   parking                14289 non-null  float64\n",
      " 8   bathroom               19985 non-null  float64\n",
      " 9   size                   19991 non-null  object \n",
      " 10  furnished              19986 non-null  object \n",
      " 11  facilities             17782 non-null  object \n",
      " 12  additional_facilities  14043 non-null  object \n",
      " 13  region                 19991 non-null  object \n",
      "dtypes: float64(3), int64(1), object(10)\n",
      "memory usage: 2.1+ MB\n"
     ]
    }
   ],
   "source": [
    "df.info()"
   ]
  },
  {
   "cell_type": "markdown",
   "id": "7e7b4d3e-489d-4a6c-bab3-fc01337589d1",
   "metadata": {},
   "source": [
    "# copy df to compare later"
   ]
  },
  {
   "cell_type": "code",
   "execution_count": 13,
   "id": "9061f11b-4e3b-44da-b3bb-c960ee1aae56",
   "metadata": {},
   "outputs": [
    {
     "data": {
      "text/html": [
       "<div>\n",
       "<style scoped>\n",
       "    .dataframe tbody tr th:only-of-type {\n",
       "        vertical-align: middle;\n",
       "    }\n",
       "\n",
       "    .dataframe tbody tr th {\n",
       "        vertical-align: top;\n",
       "    }\n",
       "\n",
       "    .dataframe thead th {\n",
       "        text-align: right;\n",
       "    }\n",
       "</style>\n",
       "<table border=\"1\" class=\"dataframe\">\n",
       "  <thead>\n",
       "    <tr style=\"text-align: right;\">\n",
       "      <th></th>\n",
       "      <th>ads_id</th>\n",
       "      <th>prop_name</th>\n",
       "      <th>completion_year</th>\n",
       "      <th>monthly_rent</th>\n",
       "      <th>location</th>\n",
       "      <th>property_type</th>\n",
       "      <th>rooms</th>\n",
       "      <th>parking</th>\n",
       "      <th>bathroom</th>\n",
       "      <th>size</th>\n",
       "      <th>furnished</th>\n",
       "      <th>facilities</th>\n",
       "      <th>additional_facilities</th>\n",
       "      <th>region</th>\n",
       "    </tr>\n",
       "  </thead>\n",
       "  <tbody>\n",
       "    <tr>\n",
       "      <th>0</th>\n",
       "      <td>100323185</td>\n",
       "      <td>The Hipster @ Taman Desa</td>\n",
       "      <td>2022.0</td>\n",
       "      <td>RM 4 200 per month</td>\n",
       "      <td>Kuala Lumpur - Taman Desa</td>\n",
       "      <td>Condominium</td>\n",
       "      <td>5</td>\n",
       "      <td>2.0</td>\n",
       "      <td>6.0</td>\n",
       "      <td>1842 sq.ft.</td>\n",
       "      <td>Fully Furnished</td>\n",
       "      <td>Minimart, Gymnasium, Security, Playground, Swi...</td>\n",
       "      <td>Air-Cond, Cooking Allowed, Washing Machine</td>\n",
       "      <td>Kuala Lumpur</td>\n",
       "    </tr>\n",
       "  </tbody>\n",
       "</table>\n",
       "</div>"
      ],
      "text/plain": [
       "      ads_id                 prop_name  completion_year        monthly_rent  \\\n",
       "0  100323185  The Hipster @ Taman Desa           2022.0  RM 4 200 per month   \n",
       "\n",
       "                    location property_type rooms  parking  bathroom  \\\n",
       "0  Kuala Lumpur - Taman Desa   Condominium     5      2.0       6.0   \n",
       "\n",
       "          size        furnished  \\\n",
       "0  1842 sq.ft.  Fully Furnished   \n",
       "\n",
       "                                          facilities  \\\n",
       "0  Minimart, Gymnasium, Security, Playground, Swi...   \n",
       "\n",
       "                        additional_facilities        region  \n",
       "0  Air-Cond, Cooking Allowed, Washing Machine  Kuala Lumpur  "
      ]
     },
     "execution_count": 13,
     "metadata": {},
     "output_type": "execute_result"
    }
   ],
   "source": [
    "df_cleaned = df.copy()\n",
    "df_cleaned.head(1)"
   ]
  },
  {
   "cell_type": "code",
   "execution_count": 14,
   "id": "d9b6843a-c9e8-4567-934a-2a8aae526175",
   "metadata": {
    "scrolled": true
   },
   "outputs": [],
   "source": [
    "df_cleaned = df_cleaned.drop(['ads_id', 'completion_year'], axis=1)"
   ]
  },
  {
   "cell_type": "code",
   "execution_count": 15,
   "id": "60b8970e-8dd5-4011-ba85-c3d41386cac5",
   "metadata": {},
   "outputs": [],
   "source": [
    "df_cleaned['prop_name'] = df_cleaned['prop_name'].fillna('unknown')"
   ]
  },
  {
   "cell_type": "code",
   "execution_count": 16,
   "id": "7fca389e-f054-4e8f-8611-456c2fc13fa1",
   "metadata": {},
   "outputs": [],
   "source": [
    "df_cleaned['monthly_rent'] = df_cleaned['monthly_rent'].fillna(0)"
   ]
  },
  {
   "cell_type": "code",
   "execution_count": 17,
   "id": "8120b42b-4ddd-49fb-9965-558370faf155",
   "metadata": {},
   "outputs": [
    {
     "data": {
      "text/plain": [
       "0          5\n",
       "1          3\n",
       "2          3\n",
       "3          2\n",
       "4          1\n",
       "        ... \n",
       "19986    3.0\n",
       "19987    4.0\n",
       "19988    3.0\n",
       "19989    3.0\n",
       "19990    1.0\n",
       "Name: rooms, Length: 19991, dtype: object"
      ]
     },
     "execution_count": 17,
     "metadata": {},
     "output_type": "execute_result"
    }
   ],
   "source": [
    "df_cleaned['rooms']"
   ]
  },
  {
   "cell_type": "code",
   "execution_count": 18,
   "id": "ce0fdc1b-befb-4737-909f-f04e94af731b",
   "metadata": {
    "scrolled": true
   },
   "outputs": [
    {
     "data": {
      "text/plain": [
       "array(['RM 4 200 per month', 'RM 2 300 per month', 'RM 1 000 per month',\n",
       "       'RM 1 700 per month', 'RM 1 299 per month', 'RM 1 500 per month',\n",
       "       'RM 2 900 per month', 'RM 1 550 per month', 'RM 1 400 per month',\n",
       "       'RM 1 350 per month', 'RM 2 600 per month', 'RM 2 000 per month',\n",
       "       'RM 1 300 per month', 'RM 3 200 per month', 'RM 2 500 per month',\n",
       "       'RM 1 800 per month', 'RM 1 099 per month', 'RM 1 199 per month',\n",
       "       'RM 1 100 per month', 'RM 1 750 per month', 'RM 1 900 per month',\n",
       "       'RM 2 400 per month', 'RM 4 500 per month', 'RM 3 000 per month',\n",
       "       'RM 1 600 per month', 'RM 2 100 per month', 'RM 1 850 per month',\n",
       "       'RM 2 700 per month', 'RM 7 000 per month', 'RM 900 per month',\n",
       "       'RM 7 800 per month', 'RM 850 per month', 'RM 1 650 per month',\n",
       "       'RM 1 200 per month', 'RM 2 599 per month', 'RM 2 200 per month',\n",
       "       'RM 700 per month', 'RM 1 399 per month', 'RM 1 450 per month',\n",
       "       'RM 3 300 per month', 'RM 3 700 per month', 'RM 999 per month',\n",
       "       'RM 2 499 per month', 'RM 4 000 per month', 'RM 1 948 per month',\n",
       "       'RM 550 per month', 'RM 1 488 per month', 'RM 750 per month',\n",
       "       'RM 650 per month', 'RM 1 599 per month', 'RM 1 880 per month',\n",
       "       'RM 2 800 per month', 'RM 600 per month', 'RM 1 499 per month',\n",
       "       'RM 800 per month', 'RM 3 800 per month', 'RM 5 800 per month',\n",
       "       'RM 1 250 per month', 'RM 3 500 per month', 'RM 4 800 per month',\n",
       "       'RM 1 799 per month', 'RM 4 600 per month', 'RM 450 per month',\n",
       "       'RM 880 per month', 'RM 2 950 per month', 'RM 3 600 per month',\n",
       "       'RM 3 400 per month', 'RM 1 050 per month', 'RM 645 per month',\n",
       "       'RM 2 350 per month', 'RM 2 250 per month', 'RM 1 150 per month',\n",
       "       'RM 1 999 per month', 'RM 950 per month', 'RM 1 180 per month',\n",
       "       'RM 2 550 per month', 'RM 2 450 per month', 'RM 2 150 per month',\n",
       "       'RM 1 502 per month', 'RM 1 501 per month', 'RM 500 per month',\n",
       "       'RM 350 per month', 'RM 329 999 per month', 'RM 2 650 per month',\n",
       "       'RM 3 650 per month', 'RM 10 000 per month', 'RM 4 700 per month',\n",
       "       'RM 5 950 per month', 'RM 2 899 per month', 'RM 200 per month',\n",
       "       'RM 2 299 per month', 'RM 2 480 per month', 'RM 1 730 per month',\n",
       "       'RM 1 688 per month', 'RM 2 099 per month', 'RM 1 680 per month',\n",
       "       'RM 15 000 per month', 'RM 780 per month', 'RM 1 630 per month',\n",
       "       'RM 5 600 per month', 'RM 2 199 per month', 'RM 11 500 per month',\n",
       "       'RM 1 380 per month', 'RM 699 per month', 'RM 3 100 per month',\n",
       "       'RM 4 250 per month', 'RM 2 999 per month', 'RM 16 000 per month',\n",
       "       'RM 4 876 per month', 'RM 16 800 per month', 'RM 890 per month',\n",
       "       'RM 10 500 per month', 'RM 5 000 per month', 'RM 2 050 per month',\n",
       "       'RM 1 198 per month', 'RM 1 788 per month', 'RM 1 988 per month',\n",
       "       'RM 13 000 per month', 'RM 3 999 per month', 'RM 400 per month',\n",
       "       'RM 4 899 per month', 'RM 601 per month', 'RM 1 950 per month',\n",
       "       'RM 7 500 per month', 'RM 3 099 per month', 'RM 1 340 per month',\n",
       "       'RM 5 500 per month', 'RM 9 500 per month', 'RM 1 280 per month',\n",
       "       'RM 530 per month', 'RM 680 per month', 'RM 13 500 per month',\n",
       "       'RM 6 800 per month', 'RM 1 699 per month', 'RM 110 per month',\n",
       "       'RM 90 per month', 'RM 3 899 per month', 'RM 1 588 per month',\n",
       "       'RM 1 998 per month', 'RM 3 550 per month', 'RM 3 799 per month',\n",
       "       'RM 760 per month', 'RM 6 000 per month', 'RM 2 750 per month',\n",
       "       'RM 9 000 per month', 'RM 5 200 per month', 'RM 1 899 per month',\n",
       "       'RM 8 999 per month', 'RM 2 799 per month', 'RM 5 300 per month',\n",
       "       'RM 2 399 per month', 'RM 2 080 per month', 'RM 150 per month',\n",
       "       'RM 6 900 per month', 'RM 4 300 per month', 'RM 12 000 per month',\n",
       "       'RM 3 900 per month', 'RM 580 000 per month', 'RM 1 360 per month',\n",
       "       'RM 4 399 per month', 'RM 910 per month', 'RM 2 888 per month',\n",
       "       'RM 2 798 per month', 'RM 6 500 per month', 'RM 3 450 per month',\n",
       "       'RM 100 per month', 'RM 8 500 per month', 'RM 2 998 per month',\n",
       "       'RM 730 per month', 'RM 580 per month', 'RM 3 299 per month',\n",
       "       'RM 4 400 per month', 'RM 1 109 per month', 'RM 1 449 per month',\n",
       "       'RM 250 000 per month', 'RM 2 490 per month', 'RM 1 780 per month',\n",
       "       'RM 4 900 per month', 'RM 200 000 per month', 'RM 1 398 per month',\n",
       "       'RM 1 798 per month', 'RM 949 per month', 'RM 288 000 per month',\n",
       "       'RM 1 330 per month', 'RM 250 per month', 'RM 3 350 per month',\n",
       "       'RM 2 850 per month', 'RM 2 380 per month', 'RM 830 per month',\n",
       "       'RM 5 900 per month', 'RM 820 per month', 'RM 120 per month',\n",
       "       'RM 1 098 per month', 'RM 1 498 per month', 'RM 8 000 per month',\n",
       "       'RM 3 088 per month', 'RM 1 790 per month', 'RM 330 000 per month',\n",
       "       'RM 2 400 000 per month', 'RM 1 548 per month',\n",
       "       'RM 7 900 per month', 'RM 1 690 per month', 'RM 605 per month',\n",
       "       'RM 1 201 per month', 'RM 602 per month', 'RM 1 203 per month',\n",
       "       'RM 1 205 per month', 'RM 1 202 per month', 'RM 2 790 per month',\n",
       "       'RM 1 090 per month', 'RM 1 204 per month', 'RM 1 712 per month',\n",
       "       'RM 1 298 per month', 'RM 1 388 per month', 'RM 10 300 per month',\n",
       "       'RM 630 per month', 'RM 980 per month', 'RM 4 888 per month',\n",
       "       'RM 1 390 per month', 'RM 603 per month', 'RM 1 189 per month',\n",
       "       'RM 1 990 per month', 'RM 1 980 per month', 'RM 899 per month',\n",
       "       'RM 720 per month', 'RM 3 499 per month', 'RM 604 per month',\n",
       "       'RM 11 000 per month', 'RM 780 000 per month', 'RM 180 per month',\n",
       "       'RM 1 111 per month', 'RM 648 per month', 'RM 3 950 per month',\n",
       "       'RM 3 120 per month', 'RM 710 per month', 'RM 419 000 per month',\n",
       "       'RM 418 000 per month', 'RM 3 490 per month', 'RM 998 per month',\n",
       "       'RM 310 000 per month', 'RM 260 000 per month',\n",
       "       'RM 2 699 per month', 'RM 1 580 per month', 'RM 4 999 per month',\n",
       "       'RM 746 per month', 'RM 1 720 per month', 'RM 80 per month',\n",
       "       'RM 249 900 per month', 'RM 1 480 per month', 'RM 801 per month',\n",
       "       'RM 3 150 per month', 'RM 4 350 per month', 'RM 145 per month',\n",
       "       'RM 550 000 per month', 'RM 1 080 per month', 'RM 705 per month',\n",
       "       'RM 701 per month', 'RM 798 per month', 'RM 3 380 per month',\n",
       "       'RM 1 048 per month', 'RM 9 600 per month', 'RM 18 500 per month',\n",
       "       'RM 1 490 per month', 'RM 948 per month', 'RM 1 140 per month',\n",
       "       'RM 3 198 per month', 'RM 3 599 per month', 'RM 17 000 per month',\n",
       "       'RM 3 399 per month', 'RM 12 500 per month', 'RM 1 190 per month',\n",
       "       'RM 1 810 per month', 'RM 2 280 per month', 'RM 810 per month',\n",
       "       'RM 1 188 per month', 0, 'RM 790 per month', 'RM 870 per month',\n",
       "       'RM 1 348 per month', 'RM 620 per month', 'RM 4 650 per month',\n",
       "       'RM 270 per month', 'RM 824 per month', 'RM 670 per month',\n",
       "       'RM 660 per month', 'RM 1 693 per month', 'RM 380 per month',\n",
       "       'RM 749 per month', 'RM 4 848 per month', 'RM 125 000 per month',\n",
       "       'RM 799 per month', 'RM 499 per month', 'RM 920 per month',\n",
       "       'RM 698 per month', 'RM 849 per month', 'RM 300 per month',\n",
       "       'RM 690 per month', 'RM 349 898 per month', 'RM 127 898 per month',\n",
       "       'RM 190 000 per month', 'RM 1 248 per month', 'RM 460 per month',\n",
       "       'RM 1 260 per month', 'RM 860 per month', 'RM 1 270 per month',\n",
       "       'RM 1 949 per month', 'RM 996 per month', 'RM 1 288 per month',\n",
       "       'RM 280 per month', 'RM 930 per month', 'RM 370 per month',\n",
       "       'RM 1 155 per month', 'RM 695 per month', 'RM 960 per month',\n",
       "       'RM 1 230 per month', 'RM 1 373 per month', 'RM 390 per month',\n",
       "       'RM 1 045 per month', 'RM 345 000 per month', 'RM 1 590 per month',\n",
       "       'RM 770 per month', 'RM 915 per month', 'RM 105 000 per month',\n",
       "       'RM 1 210 per month', 'RM 190 per month', 'RM 875 per month',\n",
       "       'RM 1 030 per month', 'RM 1 049 per month', 'RM 995 per month',\n",
       "       'RM 480 per month', 'RM 898 per month', 'RM 740 per month',\n",
       "       'RM 549 per month', 'RM 3 990 per month', 'RM 45 000 per month',\n",
       "       'RM 85 per month', 'RM 290 000 per month', 'RM 430 per month',\n",
       "       'RM 290 per month', 'RM 2 988 per month', 'RM 1 249 per month',\n",
       "       'RM 1 598 per month', 'RM 1 698 per month', 'RM 2 398 per month',\n",
       "       'RM 905 per month', 'RM 5 499 per month', 'RM 480 000 per month',\n",
       "       'RM 260 per month', 'RM 215 000 per month', 'RM 220 per month',\n",
       "       'RM 6 888 per month', 'RM 904 per month', 'RM 903 per month',\n",
       "       'RM 230 000 per month', 'RM 1 158 per month', 'RM 958 per month',\n",
       "       'RM 1 220 per month', 'RM 689 per month', 'RM 902 per month',\n",
       "       'RM 450 000 per month', 'RM 599 per month', 'RM 901 per month',\n",
       "       'RM 9 800 per month', 'RM 4 100 per month', 'RM 722 per month',\n",
       "       'RM 723 per month', 'RM 970 per month', 'RM 878 per month',\n",
       "       'RM 879 per month', 'RM 1 430 per month', 'RM 882 per month',\n",
       "       'RM 881 per month', 'RM 95 000 per month', 'RM 320 000 per month',\n",
       "       'RM 70 per month', 'RM 889 per month', 'RM 883 per month',\n",
       "       'RM 3 980 per month', 'RM 1 297 per month', 'RM 649 per month',\n",
       "       'RM 1 520 per month', 'RM 748 per month', 'RM 656 per month',\n",
       "       'RM 884 per month', 'RM 658 per month', 'RM 1 070 per month',\n",
       "       'RM 240 000 per month', 'RM 885 per month'], dtype=object)"
      ]
     },
     "execution_count": 18,
     "metadata": {},
     "output_type": "execute_result"
    }
   ],
   "source": [
    "df_cleaned['monthly_rent'].unique()"
   ]
  },
  {
   "cell_type": "code",
   "execution_count": 19,
   "id": "e6c11541-407c-4403-9f13-1d98012f5d1b",
   "metadata": {},
   "outputs": [],
   "source": [
    "# replacing all the unwanted strings in data and eliminating the whitespace with regex \n",
    "df_cleaned['monthly_rent(RM)'] = df_cleaned['monthly_rent'].str.replace('RM', '').str.replace('per month', '').str.replace(r'\\s+', '', regex=True).fillna(0).astype(int)"
   ]
  },
  {
   "cell_type": "code",
   "execution_count": 20,
   "id": "5a47581b-c88a-4482-b9e4-9e74b14be482",
   "metadata": {},
   "outputs": [
    {
     "data": {
      "text/plain": [
       "0"
      ]
     },
     "execution_count": 20,
     "metadata": {},
     "output_type": "execute_result"
    }
   ],
   "source": [
    "df_cleaned['monthly_rent(RM)'].isna().sum()"
   ]
  },
  {
   "cell_type": "code",
   "execution_count": 21,
   "id": "687d77d1-6cec-4e0b-8818-57e75f254fa7",
   "metadata": {},
   "outputs": [
    {
     "name": "stdout",
     "output_type": "stream",
     "text": [
      "<class 'pandas.core.frame.DataFrame'>\n",
      "RangeIndex: 19991 entries, 0 to 19990\n",
      "Data columns (total 13 columns):\n",
      " #   Column                 Non-Null Count  Dtype  \n",
      "---  ------                 --------------  -----  \n",
      " 0   prop_name              19991 non-null  object \n",
      " 1   monthly_rent           19991 non-null  object \n",
      " 2   location               19991 non-null  object \n",
      " 3   property_type          19991 non-null  object \n",
      " 4   rooms                  19985 non-null  object \n",
      " 5   parking                14289 non-null  float64\n",
      " 6   bathroom               19985 non-null  float64\n",
      " 7   size                   19991 non-null  object \n",
      " 8   furnished              19986 non-null  object \n",
      " 9   facilities             17782 non-null  object \n",
      " 10  additional_facilities  14043 non-null  object \n",
      " 11  region                 19991 non-null  object \n",
      " 12  monthly_rent(RM)       19991 non-null  int64  \n",
      "dtypes: float64(2), int64(1), object(10)\n",
      "memory usage: 2.0+ MB\n"
     ]
    }
   ],
   "source": [
    "df_cleaned.info()"
   ]
  },
  {
   "cell_type": "code",
   "execution_count": 22,
   "id": "39c947a5-8851-4ff7-8de9-107afefc89b1",
   "metadata": {
    "scrolled": true
   },
   "outputs": [],
   "source": [
    "df_cleaned = df_cleaned.drop('monthly_rent', axis=1)"
   ]
  },
  {
   "cell_type": "code",
   "execution_count": 23,
   "id": "3cef4521-9c47-4ba6-bf73-cf8c293b868d",
   "metadata": {
    "scrolled": true
   },
   "outputs": [],
   "source": [
    "# from sklearn.preprocessing import LabelEncoder\n",
    "# label_encoder = LabelEncoder()\n",
    "\n",
    "# objects = df_cleaned.select_dtypes(include='object')\n",
    "# for col in objects:\n",
    "#     df_cleaned[col] = label_encoder.fit_transform(objects[col])"
   ]
  },
  {
   "cell_type": "code",
   "execution_count": 24,
   "id": "0c1c57f2-038c-4e7c-a403-3ebafaca4ed6",
   "metadata": {},
   "outputs": [
    {
     "data": {
      "text/plain": [
       "array(['5', '3', '2', '1', '4', '7', '6', 'More than 10', nan, '9', '3.0',\n",
       "       '4.0', '2.0', '1.0', '5.0', '9.0', '6.0', '7.0', '10.0'],\n",
       "      dtype=object)"
      ]
     },
     "execution_count": 24,
     "metadata": {},
     "output_type": "execute_result"
    }
   ],
   "source": [
    "df.rooms.unique()"
   ]
  },
  {
   "cell_type": "code",
   "execution_count": 25,
   "id": "9e1eb804-84e9-4158-9930-2d2bcebc592d",
   "metadata": {},
   "outputs": [],
   "source": [
    "df_cleaned['rooms'] = df_cleaned['rooms'].fillna(0)"
   ]
  },
  {
   "cell_type": "code",
   "execution_count": 26,
   "id": "56e47f9b-10b3-46bd-b6fc-7fc734839ade",
   "metadata": {
    "scrolled": true
   },
   "outputs": [
    {
     "data": {
      "text/plain": [
       "0        6\n",
       "1        2\n",
       "2        2\n",
       "3        2\n",
       "4        1\n",
       "        ..\n",
       "19986    2\n",
       "19987    3\n",
       "19988    2\n",
       "19989    2\n",
       "19990    1\n",
       "Name: bathroom, Length: 19991, dtype: int64"
      ]
     },
     "execution_count": 26,
     "metadata": {},
     "output_type": "execute_result"
    }
   ],
   "source": [
    "df_cleaned['bathroom'] = df_cleaned['bathroom'].fillna(0).astype(int)\n",
    "df_cleaned['bathroom']"
   ]
  },
  {
   "cell_type": "code",
   "execution_count": 27,
   "id": "ef20e0a1-bcb6-404e-aaa5-f78e985c1e33",
   "metadata": {},
   "outputs": [
    {
     "data": {
      "text/plain": [
       "0        2\n",
       "1        1\n",
       "2        0\n",
       "3        1\n",
       "4        1\n",
       "        ..\n",
       "19986    0\n",
       "19987    2\n",
       "19988    2\n",
       "19989    1\n",
       "19990    1\n",
       "Name: parking, Length: 19991, dtype: int64"
      ]
     },
     "execution_count": 27,
     "metadata": {},
     "output_type": "execute_result"
    }
   ],
   "source": [
    "df_cleaned['parking'] = df_cleaned['parking'].fillna(0).astype(int)\n",
    "df_cleaned['parking']"
   ]
  },
  {
   "cell_type": "code",
   "execution_count": 28,
   "id": "31ccaf8b-3782-406d-843a-c78e4f9ed708",
   "metadata": {},
   "outputs": [
    {
     "data": {
      "text/plain": [
       "property_type    rooms\n",
       "Apartment        3.0      2774\n",
       "                 3        1753\n",
       "                 2         253\n",
       "                 2.0       160\n",
       "                 1.0       113\n",
       "                          ... \n",
       "Townhouse Condo  4           4\n",
       "                 2.0         3\n",
       "                 4.0         2\n",
       "                 1.0         1\n",
       "                 2           1\n",
       "Name: count, Length: 83, dtype: int64"
      ]
     },
     "execution_count": 28,
     "metadata": {},
     "output_type": "execute_result"
    }
   ],
   "source": [
    "df_cleaned.groupby('property_type')['rooms'].value_counts(ascending=False)"
   ]
  },
  {
   "cell_type": "code",
   "execution_count": 29,
   "id": "66072cb2-3437-49ef-a542-cdf33d615aea",
   "metadata": {
    "scrolled": true
   },
   "outputs": [
    {
     "data": {
      "text/plain": [
       "property_type                                       parking\n",
       "Apartment                                           1          2498\n",
       "                                                    0          1968\n",
       "                                                    2           770\n",
       "                                                    3            11\n",
       "                                                    4             3\n",
       "                                                    5             3\n",
       "                                                    10            3\n",
       "                                                    6             1\n",
       "                                                    7             1\n",
       "Bungalow House                                      0             1\n",
       "Condo / Services residence / Penthouse / Townhouse  0             1\n",
       "Condominium                                         1          3771\n",
       "                                                    2          2918\n",
       "                                                    0          1634\n",
       "                                                    3           108\n",
       "                                                    4            16\n",
       "                                                    10            1\n",
       "Duplex                                              0            38\n",
       "                                                    1            27\n",
       "                                                    2             8\n",
       "                                                    3             3\n",
       "Flat                                                0           463\n",
       "                                                    1            88\n",
       "                                                    2            23\n",
       "                                                    3             4\n",
       "                                                    10            2\n",
       "                                                    6             1\n",
       "Houses                                              1             1\n",
       "Others                                              0            53\n",
       "                                                    1            22\n",
       "                                                    2            10\n",
       "                                                    3             2\n",
       "                                                    4             1\n",
       "                                                    5             1\n",
       "Residential                                         0             1\n",
       "Service Residence                                   1          2131\n",
       "                                                    2          1681\n",
       "                                                    0          1441\n",
       "                                                    3            51\n",
       "                                                    4             3\n",
       "                                                    5             2\n",
       "                                                    9             1\n",
       "Soho                                                1             1\n",
       "Studio                                              1            98\n",
       "                                                    0            87\n",
       "                                                    2             4\n",
       "Townhouse Condo                                     0            15\n",
       "                                                    2            13\n",
       "                                                    1             7\n",
       "Name: count, dtype: int64"
      ]
     },
     "execution_count": 29,
     "metadata": {},
     "output_type": "execute_result"
    }
   ],
   "source": [
    "df_cleaned.groupby('property_type')['parking'].value_counts(ascending=False)"
   ]
  },
  {
   "cell_type": "code",
   "execution_count": 30,
   "id": "ad537660-82a8-44e5-b094-326712272489",
   "metadata": {},
   "outputs": [
    {
     "data": {
      "text/plain": [
       "0"
      ]
     },
     "execution_count": 30,
     "metadata": {},
     "output_type": "execute_result"
    }
   ],
   "source": [
    "df_cleaned.furnished = df_cleaned.furnished.replace(np.nan, 'unknown')\n",
    "df_cleaned.furnished.isna().sum()"
   ]
  },
  {
   "cell_type": "code",
   "execution_count": 31,
   "id": "8b1f8e10-0289-4e97-83ee-4b7aa52988af",
   "metadata": {},
   "outputs": [
    {
     "data": {
      "text/plain": [
       "0"
      ]
     },
     "execution_count": 31,
     "metadata": {},
     "output_type": "execute_result"
    }
   ],
   "source": [
    "df_cleaned.facilities = df_cleaned.facilities.replace(np.nan, 'unknown')\n",
    "df_cleaned.facilities.isna().sum()"
   ]
  },
  {
   "cell_type": "code",
   "execution_count": 32,
   "id": "df6b9b06-2bd0-4356-87d5-b89e205107e9",
   "metadata": {},
   "outputs": [
    {
     "data": {
      "text/plain": [
       "0"
      ]
     },
     "execution_count": 32,
     "metadata": {},
     "output_type": "execute_result"
    }
   ],
   "source": [
    "df_cleaned.additional_facilities = df_cleaned.additional_facilities.replace(np.nan, 'unknown')\n",
    "df_cleaned.additional_facilities.isna().sum()"
   ]
  },
  {
   "cell_type": "markdown",
   "id": "27475709-b591-4640-90ec-4e8722b462cc",
   "metadata": {},
   "source": [
    "---"
   ]
  },
  {
   "cell_type": "markdown",
   "id": "300df83c-cb4b-4c7d-84de-97b6576d2d99",
   "metadata": {},
   "source": [
    "# Feature engineering "
   ]
  },
  {
   "cell_type": "code",
   "execution_count": 35,
   "id": "256c1dff-2855-4fa0-9eeb-627b60d0d335",
   "metadata": {},
   "outputs": [
    {
     "data": {
      "text/plain": [
       "Index(['prop_name', 'location', 'property_type', 'rooms', 'parking',\n",
       "       'bathroom', 'size', 'furnished', 'facilities', 'additional_facilities',\n",
       "       'region', 'monthly_rent(RM)'],\n",
       "      dtype='object')"
      ]
     },
     "execution_count": 35,
     "metadata": {},
     "output_type": "execute_result"
    }
   ],
   "source": [
    "df_cleaned.columns"
   ]
  },
  {
   "cell_type": "markdown",
   "id": "08175e0f-e8d5-4be5-9162-94b722ec38c2",
   "metadata": {},
   "source": [
    "### Average Price per Square Foot: Price / Square Footage \n",
    "- Need to replace string then convert to int first"
   ]
  },
  {
   "cell_type": "code",
   "execution_count": 37,
   "id": "a5f722ce-9546-47c9-a225-9d9098eb9dd4",
   "metadata": {},
   "outputs": [],
   "source": [
    "df_cleaned['size'] = df_cleaned['size'].str.replace('sq.ft.', '').astype(int)"
   ]
  },
  {
   "cell_type": "code",
   "execution_count": 38,
   "id": "dc762565-94bf-4a8b-b34e-94f645de1bce",
   "metadata": {},
   "outputs": [
    {
     "data": {
      "text/plain": [
       "array([1842, 1170,  650, ...,  489,  941, 1261])"
      ]
     },
     "execution_count": 38,
     "metadata": {},
     "output_type": "execute_result"
    }
   ],
   "source": [
    "df_cleaned['size'].unique()"
   ]
  },
  {
   "cell_type": "markdown",
   "id": "4b7b41a9-670a-48e3-924f-4aaf19812a02",
   "metadata": {},
   "source": [
    "### lower the threshold value to avoid weird data"
   ]
  },
  {
   "cell_type": "code",
   "execution_count": 40,
   "id": "c60668d7-cbca-48f6-a68f-9b505a46650f",
   "metadata": {},
   "outputs": [],
   "source": [
    "df_cleaned = df_cleaned[df_cleaned['size'] < 99999999]"
   ]
  },
  {
   "cell_type": "code",
   "execution_count": 41,
   "id": "070269aa-6ddf-4be8-a9fe-300ef2a2a117",
   "metadata": {},
   "outputs": [
    {
     "data": {
      "text/plain": [
       "size\n",
       "1         1135.000000\n",
       "2         1083.333333\n",
       "3        15000.000000\n",
       "5           80.000000\n",
       "7          650.000000\n",
       "             ...     \n",
       "7800     17000.000000\n",
       "8300      1400.000000\n",
       "9001      1800.000000\n",
       "15000     3300.000000\n",
       "48010     1400.000000\n",
       "Name: monthly_rent(RM), Length: 1214, dtype: float64"
      ]
     },
     "execution_count": 41,
     "metadata": {},
     "output_type": "execute_result"
    }
   ],
   "source": [
    "df_cleaned.groupby('size')['monthly_rent(RM)'].mean()"
   ]
  },
  {
   "cell_type": "markdown",
   "id": "6cd94765-5f72-46b9-b481-130f009ebf69",
   "metadata": {},
   "source": [
    "### Average price based on region in KL  "
   ]
  },
  {
   "cell_type": "code",
   "execution_count": 43,
   "id": "407cb177-1b08-4610-b06d-096c897b1d5a",
   "metadata": {},
   "outputs": [
    {
     "data": {
      "text/plain": [
       "region\n",
       "Kuala Lumpur    2793.0\n",
       "Selangor        1745.0\n",
       "Name: monthly_rent(RM), dtype: float64"
      ]
     },
     "execution_count": 43,
     "metadata": {},
     "output_type": "execute_result"
    }
   ],
   "source": [
    "round(df_cleaned.groupby('region')['monthly_rent(RM)'].mean())"
   ]
  },
  {
   "cell_type": "markdown",
   "id": "3a509670-655d-4ecb-bcde-3ab09d5de530",
   "metadata": {},
   "source": [
    "##### Now we know that KL rent will be much higher than Selangor. "
   ]
  },
  {
   "cell_type": "markdown",
   "id": "946c86aa-0ffb-49f9-9c0b-c6e0bcccf021",
   "metadata": {},
   "source": [
    "---"
   ]
  },
  {
   "cell_type": "code",
   "execution_count": null,
   "id": "057e7206-61a7-486f-9b37-809da6770a29",
   "metadata": {},
   "outputs": [],
   "source": []
  }
 ],
 "metadata": {
  "kernelspec": {
   "display_name": "Python 3 (ipykernel)",
   "language": "python",
   "name": "python3"
  },
  "language_info": {
   "codemirror_mode": {
    "name": "ipython",
    "version": 3
   },
   "file_extension": ".py",
   "mimetype": "text/x-python",
   "name": "python",
   "nbconvert_exporter": "python",
   "pygments_lexer": "ipython3",
   "version": "3.12.2"
  }
 },
 "nbformat": 4,
 "nbformat_minor": 5
}
