


import pandas as pd


df = pd.read_csv('cleaned_df.csv', low_memory=False)
df.head()


df.drop(['Unnamed: 0.1', 'Unnamed: 0',' Club house',' Gymnasium', ' Jogging Track', ' Lift', ' Minimart',
       ' Multipurpose hall', ' Parking', ' Playground', ' Sauna', ' Security',
       ' Squash Court', ' Swimming Pool', ' Tennis Court', ' Barbeque area',
       ' 11', 'Air-Cond', 'Cooking Allowed', 'Internet', 'Near KTM/LRT',
       'Washing Machine', ' Cooking Allowed', ' Internet', ' Near KTM/LRT',
       ' Washing Machine'], axis=1, inplace=True)


df.drop(df[df['prop_name']=='unknown'].index, axis=0, inplace=True)


df['monthly_rent(RM)'] = df['monthly_rent(RM)'].replace(0, df['monthly_rent(RM)'].mean().round())
df.drop(df[df['monthly_rent(RM)'] == 70.0].index,axis=0, inplace=True)
df.drop(df[df['monthly_rent(RM)'] == 85.0].index,axis=0, inplace=True)
df.drop(df[df['monthly_rent(RM)'] == 80.0].index,axis=0, inplace=True)
df.drop(df[df['monthly_rent(RM)'] == 90.0].index,axis=0, inplace=True)
df.drop(df[df['monthly_rent(RM)'] == 100.0].index,axis=0, inplace=True)


df.drop(df[df['size'] == '1 sq.ft.'].index,axis=0, inplace=True)


df['rooms'] = pd.to_numeric(df['rooms'], errors='coerce')

df['rooms'] = df.rooms.replace(0, df.rooms.mean().round())
df['rooms'] = df.rooms.fillna(df.rooms.mean().round())


df['size'] = df['size'].str.replace(r'\s+sq\.ft\.', '', regex=True).astype(float)
df['size']





df.drop(['prop_name', 'location', 'furnished', 'unknown', 'Parking'], 
        axis=1, inplace=True)


df.head()


df['monthly_rent(RM)'] = df['monthly_rent(RM)'].astype(float)


df.drop(df[df['size'] < 10].index,axis=0, inplace=True)


df.drop(['Club house', 'Jogging Track', 'Multipurpose hall', 
         'Playground', 'Squash Court', 'Tennis Court'], axis=1, inplace=True)


df.drop(df[df['size'] == 99999999.0].index, axis=0, inplace=True)


df.drop(df[df['monthly_rent(RM)'] > 90000].index,axis=0, inplace=True)


df['parking'] = df['parking'].replace(0, df.parking.mean().round())


df.info()


df.to_csv('featured_data.csv', index=False)  



