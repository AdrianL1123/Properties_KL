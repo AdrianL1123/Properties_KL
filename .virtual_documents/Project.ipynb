


from selenium import webdriver
from selenium.webdriver.common.by import By
import time
from selenium.webdriver.support.ui import WebDriverWait
from selenium.webdriver.support import expected_conditions as EC
import pandas as pd 
import numpy as np


# driver = webdriver.Chrome()
# driver.get("https://www.iproperty.com.my/sale/penang/all-residential/")

# time.sleep(3) 

# for i in range(25):
#     try:
#         # property_container = driver.find_element(By.XPATH, ".//div[@class='ListingsListstyle__ListingResultPage-iIneXB dBXYzA']")
#         property_container = driver.find_element(By.XPATH, "//ul[@class='ListingsListstyle__ListingsListContainer-dAfITF hkxQlK listing-list']")
#         print(property_container)
#         properties = property_container.find_elements(By.CSS_SELECTOR, ".ListingsListstyle__ListingListItemWrapper-hjHtwj.eUjjMH.sale-102366737")
        
#         properties[i].click()
#         time.sleep(2)  # Wait for the new page to load
        
#         # Extract the property name using the correct selector
#         property_name = WebDriverWait(driver, 10).until(
#             EC.presence_of_element_located((By.TAG_NAME, "h1"))
#         ).text
        
#         property_address = WebDriverWait(driver, 10).until(
#             EC.presence_of_element_located((By.TAG_NAME, "h3"))
#         ).text

#         property_size = WebDriverWait(driver, 10).until(
#             EC.presence_of_element_located((By.XPATH, ".//div[@class='ListingDescriptionstyle__Headline-CtOKw gDpweD']"))
#         ).text

#         try:
#             show_more_button = WebDriverWait(driver, 10).until(
#                 EC.presence_of_element_located((By.XPATH, ".//div[@id='property-details']//a[contains(text(),'Show more')]"))
#             )
#             show_more_button.click()
#             time.sleep(1)  
#         except:
#             # print("No 'Show More' button found, or couldn't click it.")
#             print(0)

#         try:
#         # Extract the property details
#             property_details = WebDriverWait(driver, 5).until(
#             EC.presence_of_element_located((By.XPATH, ".//div[@id='property-details']"))
#             ).text
            
#         except: 
#             # print('No property details skipping for now.')
#             # same thing but just to clean data easier 
#             print(0)
        
#         # print(f"Property Name: {property_name}, Property Address: {property_address}, Property Size: {property_size}")
#         # print(f'Property Details: {property_details}')
        
#         driver.back()  # Go back to the listings page
#         time.sleep(3)
        
#     except Exception as e:
#         print(f"Error: {e}")
#         continue

# driver.quit()


# driver = webdriver.Chrome()
# driver.get("https://www.iproperty.com.my/sale/penang/all-residential/")
# time.sleep(3)

# try:
#     property_container = WebDriverWait(driver, 10).until(
#         EC.presence_of_element_located((By.XPATH, "//ul[@class='ListingsListstyle__ListingsListContainer-dAfITF hkxQlK listing-list']"))
#     )
#     properties = property_container.find_elements(By.XPATH, ".//li[contains(@class, 'ListingsListstyle__ListingListItemWrapper-hjHtwj')]")

#     print(f"Found {len(properties)} properties")

#     for prop in properties:
#         try:
#             property_name = prop.find_element(By.XPATH, ".//h2").text
#             property_price = prop.find_element(By.XPATH, "//li[@class='ListingPricestyle__ItemWrapper-etxdML ejAiy']").text
#             # property_details = prop.find_element(By.XPATH, "//p[contains(@class, 'ListingAttributesstyle__ListingAttrsDescriptionItemWrapper') and contains(@class, 'attributes-description-item')]").text
            
#             prop.click()
#             try:
#                 show_more_button = WebDriverWait(driver, 10).until(
#                     EC.presence_of_element_located((By.XPATH, ".//div[@id='property-details']//a[contains(text(),'Show more')]"))
#                 )
#                 show_more_button.click()
#                 time.sleep(1)  
#             except:
#                 # print("No 'Show More' button found, or couldn't click it.")
#                 print(0)
    
#             try:
#                 # Extract the property details
#                 property_details = WebDriverWait(driver, 10).until(
#                 EC.presence_of_element_located((By.XPATH, "//div[@id='property-details']"))
#                 ).text
                
#             except: 
#                 # print('No property details skipping for now.')
#                 # same thing but just to clean data easier 
#                 print(0)

#             driver.back()  # Go back to the listings page
#             time.sleep(2)
            
            
#             print(f"Property Name: {property_name}")
#             print(f"Price: {property_price}")
#             print(f"Details: {property_details}")
#             print("-" * 50)

#         except Exception as e:
#             print(f"Error extracting property details: {e}")

# except Exception as e:
#     print(f"Error: {e}")

# finally:
#     driver.quit()





df = pd.read_csv('mudah-apartment-kl-selangor.csv')
df.head()





df.columns


df.isna().sum()


df.info()





df_cleaned = df.copy()
df_cleaned.head(1)


df_cleaned = df_cleaned.drop(['ads_id', 'completion_year'], axis=1)


df_cleaned['prop_name'] = df_cleaned['prop_name'].fillna('unknown')


df_cleaned['monthly_rent'] = df_cleaned['monthly_rent'].fillna(0)


df_cleaned['rooms']


df_cleaned['monthly_rent'].unique()


# replacing all the unwanted strings in data and eliminating the whitespace with regex 
df_cleaned['monthly_rent(RM)'] = df_cleaned['monthly_rent'].str.replace('RM', '').str.replace('per month', '').str.replace(r'\s+', '', regex=True).fillna(0).astype(int)


df_cleaned['monthly_rent(RM)'].isna().sum()


df_cleaned.info()


df_cleaned = df_cleaned.drop('monthly_rent', axis=1)


# from sklearn.preprocessing import LabelEncoder
# label_encoder = LabelEncoder()

# objects = df_cleaned.select_dtypes(include='object')
# for col in objects:
#     df_cleaned[col] = label_encoder.fit_transform(objects[col])


df.rooms.unique()


df_cleaned['rooms'] = df_cleaned['rooms'].fillna(0)


df_cleaned['bathroom'] = df_cleaned['bathroom'].fillna(0).astype(int)
df_cleaned['bathroom']


df_cleaned['parking'] = df_cleaned['parking'].fillna(0).astype(int)
df_cleaned['parking']


df_cleaned.groupby('property_type')['rooms'].value_counts(ascending=False)


df_cleaned.groupby('property_type')['parking'].value_counts(ascending=False)


df_cleaned.furnished = df_cleaned.furnished.replace(np.nan, 'unknown')
df_cleaned.furnished.isna().sum()


df_cleaned.facilities = df_cleaned.facilities.replace(np.nan, 'unknown')
df_cleaned.facilities.isna().sum()


df_cleaned.additional_facilities = df_cleaned.additional_facilities.replace(np.nan, 'unknown')
df_cleaned.additional_facilities.isna().sum()








df_cleaned.columns








df_cleaned = df_cleaned.reset_index()


normal_facilities = df_cleaned['facilities'].str.split(',', expand=True)
normal_facilities = normal_facilities.fillna('na')
normal_facilities = normal_facilities.reset_index()
normal_facilities

extra_facilities = df_cleaned['additional_facilities'].str.split(',', expand=True).fillna('na').reset_index()
extra_facilities

# total_facilities = pd.concat([normal_facilities, extra_facilities], axis=1)
total_facilities = pd.merge(normal_facilities, extra_facilities, how="inner", on=["index", "index"])
total_facilities


fac_col_name = total_facilities.columns
new_fac_col_names = ['facility'+ str(i) for i in range(0,len(fac_col_name))]
total_facilities.columns = new_fac_col_names
total_facilities.rename(columns={'facility0': 'index'}, inplace=True)
total_facilities.head()


df_new = pd.merge(df_cleaned, total_facilities, how="inner", on=["index", "index"])
df_new = df_new.drop(['index'], axis=1)
df_new.columns


from sklearn.preprocessing import OneHotEncoder
import pandas as pd

columns_needed = [
    'facility1', 'facility2', 'facility3', 'facility4', 'facility5',
    'facility6', 'facility7', 'facility8', 'facility9', 'facility10',
    'facility11', 'facility12', 'facility13', 'facility14', 'facility15',
    'facility16', 'facility17', 'facility18', 'facility19', 'facility20'
]

encoder = OneHotEncoder(sparse_output=False, drop='first')
encoded_array = encoder.fit_transform(df_new[columns_needed])
encoded_feature_names = encoder.get_feature_names_out(columns_needed)
encoded_df = pd.DataFrame(encoded_array, columns=encoded_feature_names)

encoded_df = encoded_df.astype(int)
# regex from chatgpt
encoded_df.columns = encoded_df.columns.str.replace(r'facility\d+_', '', regex=True)

# combine both new and encoded data 
df_new = pd.concat([df_new, encoded_df], axis=1)
df_new.head()


df_new = df_new.drop(['na','facility1', 'facility2', 'facility3', 'facility4', 'facility5',
    'facility6', 'facility7', 'facility8', 'facility9', 'facility10',
    'facility11', 'facility12', 'facility13', 'facility14', 'facility15',
    'facility16', 'facility17', 'facility18', 'facility19', 'facility20'], axis=1)





# df_new = df_new.drop_duplicates()


# df_new.property_type.fillna('na')


df_test = df_new[df_new['Security'] > 0]
df_test.head(2)


len(df_new.columns)


round(df_new.groupby(['property_type', 'Security'])['monthly_rent(RM)'].mean().sort_values(ascending=False).reset_index())








AveragePrice = df_cleaned.groupby(['region', 'property_type'])['monthly_rent(RM)'].mean().reset_index()
round(AveragePrice)






